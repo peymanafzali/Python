{
 "cells": [
  {
   "cell_type": "markdown",
   "metadata": {},
   "source": [
    "### Deep Learning for Solar Radiation Forecasting\n",
    "### Shahid Bahonar University of Kerman"
   ]
  },
  {
   "cell_type": "code",
   "execution_count": 2,
   "metadata": {},
   "outputs": [
    {
     "name": "stdout",
     "output_type": "stream",
     "text": [
      "(8760, 1)\n"
     ]
    }
   ],
   "source": [
    "### Keras and Tensorflow \n",
    "import numpy\n",
    "import xlrd \n",
    "import csv\n",
    "\n",
    "filename = 'Solar_Radiation_Data.csv'\n",
    "raw_data = open(filename, 'rt')\n",
    "reader = csv.reader(raw_data, delimiter=',', quoting=csv.QUOTE_NONE)\n",
    "x = list(reader)\n",
    "df1 = numpy.array(x).astype('float')\n",
    "print(df1.shape)"
   ]
  },
  {
   "cell_type": "code",
   "execution_count": 3,
   "metadata": {},
   "outputs": [],
   "source": [
    "import matplotlib.pyplot as plt\n",
    "plt.plot(df1);"
   ]
  },
  {
   "cell_type": "code",
   "execution_count": 4,
   "metadata": {},
   "outputs": [],
   "source": [
    "### LSTM are sensitive to the scale of the data. so we apply MinMax scaler "
   ]
  },
  {
   "cell_type": "code",
   "execution_count": 5,
   "metadata": {},
   "outputs": [],
   "source": [
    "import numpy as np"
   ]
  },
  {
   "cell_type": "code",
   "execution_count": 6,
   "metadata": {},
   "outputs": [
    {
     "data": {
      "text/plain": [
       "array([[0.],\n",
       "       [0.],\n",
       "       [0.],\n",
       "       ...,\n",
       "       [0.],\n",
       "       [0.],\n",
       "       [0.]])"
      ]
     },
     "execution_count": 6,
     "metadata": {},
     "output_type": "execute_result"
    }
   ],
   "source": [
    "df1"
   ]
  },
  {
   "cell_type": "code",
   "execution_count": 7,
   "metadata": {},
   "outputs": [],
   "source": [
    "from sklearn.preprocessing import MinMaxScaler\n",
    "scaler=MinMaxScaler(feature_range=(0,1))\n",
    "df1=scaler.fit_transform(np.array(df1).reshape(-1,1))"
   ]
  },
  {
   "cell_type": "code",
   "execution_count": 8,
   "metadata": {},
   "outputs": [
    {
     "name": "stdout",
     "output_type": "stream",
     "text": [
      "[[0.]\n",
      " [0.]\n",
      " [0.]\n",
      " ...\n",
      " [0.]\n",
      " [0.]\n",
      " [0.]]\n"
     ]
    }
   ],
   "source": [
    "print(df1)"
   ]
  },
  {
   "cell_type": "code",
   "execution_count": 9,
   "metadata": {},
   "outputs": [],
   "source": [
    "##splitting dataset into train and test split\n",
    "training_size=int(len(df1)*0.65)\n",
    "test_size=len(df1)-training_size\n",
    "train_data,test_data=df1[0:training_size,:],df1[training_size:len(df1),:1]"
   ]
  },
  {
   "cell_type": "code",
   "execution_count": 10,
   "metadata": {},
   "outputs": [
    {
     "data": {
      "text/plain": [
       "(5694, 3066)"
      ]
     },
     "execution_count": 10,
     "metadata": {},
     "output_type": "execute_result"
    }
   ],
   "source": [
    "training_size,test_size"
   ]
  },
  {
   "cell_type": "code",
   "execution_count": 11,
   "metadata": {},
   "outputs": [
    {
     "data": {
      "text/plain": [
       "array([[0.        ],\n",
       "       [0.        ],\n",
       "       [0.        ],\n",
       "       ...,\n",
       "       [0.        ],\n",
       "       [0.        ],\n",
       "       [0.03776159]])"
      ]
     },
     "execution_count": 11,
     "metadata": {},
     "output_type": "execute_result"
    }
   ],
   "source": [
    "train_data"
   ]
  },
  {
   "cell_type": "code",
   "execution_count": 12,
   "metadata": {},
   "outputs": [],
   "source": [
    "import numpy\n",
    "# convert an array of values into a dataset matrix\n",
    "def create_dataset(dataset, time_step=1):\n",
    "\tdataX, dataY = [], []\n",
    "\tfor i in range(len(dataset)-time_step-1):\n",
    "\t\ta = dataset[i:(i+time_step), 0]   ###i=0, 0,1,2,3-----99   100 \n",
    "\t\tdataX.append(a)\n",
    "\t\tdataY.append(dataset[i + time_step, 0])\n",
    "\treturn numpy.array(dataX), numpy.array(dataY)"
   ]
  },
  {
   "cell_type": "code",
   "execution_count": 13,
   "metadata": {},
   "outputs": [],
   "source": [
    "# reshape into X=t,t+1,t+2,t+3 and Y=t+4\n",
    "time_step = 100\n",
    "X_train, y_train = create_dataset(train_data, time_step)\n",
    "X_test, ytest = create_dataset(test_data, time_step)"
   ]
  },
  {
   "cell_type": "code",
   "execution_count": 14,
   "metadata": {},
   "outputs": [
    {
     "name": "stdout",
     "output_type": "stream",
     "text": [
      "(5593, 100)\n",
      "(5593,)\n"
     ]
    },
    {
     "data": {
      "text/plain": [
       "(None, None)"
      ]
     },
     "execution_count": 14,
     "metadata": {},
     "output_type": "execute_result"
    }
   ],
   "source": [
    "print(X_train.shape), print(y_train.shape)"
   ]
  },
  {
   "cell_type": "code",
   "execution_count": 15,
   "metadata": {},
   "outputs": [
    {
     "name": "stdout",
     "output_type": "stream",
     "text": [
      "(2965, 100)\n",
      "(2965,)\n"
     ]
    },
    {
     "data": {
      "text/plain": [
       "(None, None)"
      ]
     },
     "execution_count": 15,
     "metadata": {},
     "output_type": "execute_result"
    }
   ],
   "source": [
    "print(X_test.shape), print(ytest.shape)"
   ]
  },
  {
   "cell_type": "code",
   "execution_count": 16,
   "metadata": {},
   "outputs": [],
   "source": [
    "# reshape input to be [samples, time steps, features] which is required for LSTM\n",
    "X_train =X_train.reshape(X_train.shape[0],X_train.shape[1] , 1)\n",
    "X_test = X_test.reshape(X_test.shape[0],X_test.shape[1] , 1)"
   ]
  },
  {
   "cell_type": "code",
   "execution_count": 17,
   "metadata": {},
   "outputs": [],
   "source": [
    "### Create the Stacked LSTM model\n",
    "from tensorflow.keras.models import Sequential\n",
    "from tensorflow.keras.layers import Dense\n",
    "from tensorflow.keras.layers import LSTM"
   ]
  },
  {
   "cell_type": "code",
   "execution_count": 18,
   "metadata": {},
   "outputs": [
    {
     "name": "stdout",
     "output_type": "stream",
     "text": [
      "WARNING:tensorflow:From C:\\ProgramData\\Anaconda3\\lib\\site-packages\\tensorflow\\python\\ops\\init_ops.py:1251: calling VarianceScaling.__init__ (from tensorflow.python.ops.init_ops) with dtype is deprecated and will be removed in a future version.\n",
      "Instructions for updating:\n",
      "Call initializer instance with the dtype argument instead of passing it to the constructor\n"
     ]
    }
   ],
   "source": [
    "model=Sequential()\n",
    "model.add(LSTM(50,return_sequences=True,input_shape=(100,1)))\n",
    "model.add(LSTM(50,return_sequences=True))\n",
    "model.add(LSTM(50))\n",
    "model.add(Dense(1))\n",
    "model.compile(loss='mean_squared_error',optimizer='adam')\n"
   ]
  },
  {
   "cell_type": "code",
   "execution_count": 19,
   "metadata": {},
   "outputs": [
    {
     "name": "stdout",
     "output_type": "stream",
     "text": [
      "Model: \"sequential\"\n",
      "_________________________________________________________________\n",
      "Layer (type)                 Output Shape              Param #   \n",
      "=================================================================\n",
      "lstm (LSTM)                  (None, 100, 50)           10400     \n",
      "_________________________________________________________________\n",
      "lstm_1 (LSTM)                (None, 100, 50)           20200     \n",
      "_________________________________________________________________\n",
      "lstm_2 (LSTM)                (None, 50)                20200     \n",
      "_________________________________________________________________\n",
      "dense (Dense)                (None, 1)                 51        \n",
      "=================================================================\n",
      "Total params: 50,851\n",
      "Trainable params: 50,851\n",
      "Non-trainable params: 0\n",
      "_________________________________________________________________\n"
     ]
    }
   ],
   "source": [
    "model.summary()"
   ]
  },
  {
   "cell_type": "code",
   "execution_count": 20,
   "metadata": {},
   "outputs": [
    {
     "name": "stdout",
     "output_type": "stream",
     "text": [
      "Model: \"sequential\"\n",
      "_________________________________________________________________\n",
      "Layer (type)                 Output Shape              Param #   \n",
      "=================================================================\n",
      "lstm (LSTM)                  (None, 100, 50)           10400     \n",
      "_________________________________________________________________\n",
      "lstm_1 (LSTM)                (None, 100, 50)           20200     \n",
      "_________________________________________________________________\n",
      "lstm_2 (LSTM)                (None, 50)                20200     \n",
      "_________________________________________________________________\n",
      "dense (Dense)                (None, 1)                 51        \n",
      "=================================================================\n",
      "Total params: 50,851\n",
      "Trainable params: 50,851\n",
      "Non-trainable params: 0\n",
      "_________________________________________________________________\n"
     ]
    }
   ],
   "source": [
    "model.summary()"
   ]
  },
  {
   "cell_type": "code",
   "execution_count": null,
   "metadata": {},
   "outputs": [],
   "source": []
  },
  {
   "cell_type": "code",
   "execution_count": 21,
   "metadata": {},
   "outputs": [
    {
     "name": "stdout",
     "output_type": "stream",
     "text": [
      "Train on 5593 samples, validate on 2965 samples\n",
      "WARNING:tensorflow:From C:\\ProgramData\\Anaconda3\\lib\\site-packages\\tensorflow\\python\\ops\\math_grad.py:1250: add_dispatch_support.<locals>.wrapper (from tensorflow.python.ops.array_ops) is deprecated and will be removed in a future version.\n",
      "Instructions for updating:\n",
      "Use tf.where in 2.0, which has the same broadcast rule as np.where\n",
      "Epoch 1/15\n",
      "5593/5593 [==============================] - 33s 6ms/sample - loss: 0.0335 - val_loss: 0.0189\n",
      "Epoch 2/15\n",
      "5593/5593 [==============================] - 25s 5ms/sample - loss: 0.0227 - val_loss: 0.0159\n",
      "Epoch 3/15\n",
      "5593/5593 [==============================] - 26s 5ms/sample - loss: 0.0215 - val_loss: 0.0147\n",
      "Epoch 4/15\n",
      "5593/5593 [==============================] - 27s 5ms/sample - loss: 0.0214 - val_loss: 0.0147\n",
      "Epoch 5/15\n",
      "5593/5593 [==============================] - 25s 4ms/sample - loss: 0.0213 - val_loss: 0.0140\n",
      "Epoch 6/15\n",
      "5593/5593 [==============================] - 26s 5ms/sample - loss: 0.0208 - val_loss: 0.0149\n",
      "Epoch 7/15\n",
      "5593/5593 [==============================] - 25s 4ms/sample - loss: 0.0206 - val_loss: 0.0132\n",
      "Epoch 8/15\n",
      "5593/5593 [==============================] - 23s 4ms/sample - loss: 0.0205 - val_loss: 0.0132\n",
      "Epoch 9/15\n",
      "5593/5593 [==============================] - 23s 4ms/sample - loss: 0.0206 - val_loss: 0.0137\n",
      "Epoch 10/15\n",
      "5593/5593 [==============================] - 23s 4ms/sample - loss: 0.0204 - val_loss: 0.0130\n",
      "Epoch 11/15\n",
      "5593/5593 [==============================] - 23s 4ms/sample - loss: 0.0202 - val_loss: 0.0124\n",
      "Epoch 12/15\n",
      "5593/5593 [==============================] - 23s 4ms/sample - loss: 0.0200 - val_loss: 0.0132\n",
      "Epoch 13/15\n",
      "5593/5593 [==============================] - 23s 4ms/sample - loss: 0.0201 - val_loss: 0.0122\n",
      "Epoch 14/15\n",
      "5593/5593 [==============================] - 23s 4ms/sample - loss: 0.0198 - val_loss: 0.0125\n",
      "Epoch 15/15\n",
      "5593/5593 [==============================] - 22s 4ms/sample - loss: 0.0200 - val_loss: 0.0137\n"
     ]
    },
    {
     "data": {
      "text/plain": [
       "<tensorflow.python.keras.callbacks.History at 0x40d6a36f88>"
      ]
     },
     "execution_count": 21,
     "metadata": {},
     "output_type": "execute_result"
    }
   ],
   "source": [
    "model.fit(X_train,y_train,validation_data=(X_test,ytest),epochs=15,batch_size=64,verbose=1)"
   ]
  },
  {
   "cell_type": "code",
   "execution_count": 22,
   "metadata": {},
   "outputs": [],
   "source": [
    "import tensorflow as tf"
   ]
  },
  {
   "cell_type": "code",
   "execution_count": 23,
   "metadata": {},
   "outputs": [
    {
     "data": {
      "text/plain": [
       "'1.14.0'"
      ]
     },
     "execution_count": 23,
     "metadata": {},
     "output_type": "execute_result"
    }
   ],
   "source": [
    "tf.__version__"
   ]
  },
  {
   "cell_type": "code",
   "execution_count": 24,
   "metadata": {},
   "outputs": [],
   "source": [
    "### Lets Do the prediction and check performance metrics\n",
    "train_predict=model.predict(X_train)\n",
    "test_predict=model.predict(X_test)"
   ]
  },
  {
   "cell_type": "code",
   "execution_count": 25,
   "metadata": {},
   "outputs": [],
   "source": [
    "##Transformback to original form\n",
    "train_predict=scaler.inverse_transform(train_predict)\n",
    "test_predict=scaler.inverse_transform(test_predict)"
   ]
  },
  {
   "cell_type": "code",
   "execution_count": 26,
   "metadata": {},
   "outputs": [
    {
     "data": {
      "text/plain": [
       "315.6247552900363"
      ]
     },
     "execution_count": 26,
     "metadata": {},
     "output_type": "execute_result"
    }
   ],
   "source": [
    "### Calculate RMSE performance metrics\n",
    "import math\n",
    "from sklearn.metrics import mean_squared_error\n",
    "math.sqrt(mean_squared_error(y_train,train_predict))"
   ]
  },
  {
   "cell_type": "code",
   "execution_count": 27,
   "metadata": {},
   "outputs": [
    {
     "data": {
      "text/plain": [
       "270.46607438893653"
      ]
     },
     "execution_count": 27,
     "metadata": {},
     "output_type": "execute_result"
    }
   ],
   "source": [
    "### Test Data RMSE\n",
    "math.sqrt(mean_squared_error(ytest,test_predict))"
   ]
  },
  {
   "cell_type": "code",
   "execution_count": 112,
   "metadata": {},
   "outputs": [
    {
     "data": {
      "image/png": "[encoded data removed]",
      "text/plain": [
       "<Figure size 432x288 with 1 Axes>"
      ]
     },
     "metadata": {
      "needs_background": "light"
     },
     "output_type": "display_data"
    }
   ],
   "source": [
    "### Plotting \n",
    "# shift train predictions for plotting\n",
    "look_back=100\n",
    "trainPredictPlot = numpy.empty_like(df1)\n",
    "trainPredictPlot[:, :] = np.nan\n",
    "trainPredictPlot[look_back:len(train_predict)+look_back, :] = train_predict\n",
    "# shift test predictions for plotting\n",
    "testPredictPlot = numpy.empty_like(df1)\n",
    "testPredictPlot[:, :] = numpy.nan\n",
    "testPredictPlot[len(train_predict)+(look_back*2)+1:len(df1)-1, :] = test_predict\n",
    "# plot baseline and predictions\n",
    "fig, ax = plt.subplots()\n",
    "plt.plot(np.arange(1,8760),scaler.inverse_transform(df1[1:8760]))\n",
    "#plt.plot(scaler.inverse_transform(df1))\n",
    "plt.plot(trainPredictPlot)\n",
    "plt.plot(testPredictPlot)\n",
    "plt.xlabel('Time [hour]')\n",
    "plt.ylabel('Solar Irradiance [W/m^2]')\n",
    "plt.legend(['Real Data','Learned Train Data','Forecasted Output'],loc=0)\n",
    "ax.set_xlim([1, 8760])\n",
    "ax.set_ylim([0, 1300])\n",
    "plt.show()"
   ]
  },
  {
   "cell_type": "code",
   "execution_count": 29,
   "metadata": {},
   "outputs": [
    {
     "data": {
      "text/plain": [
       "3066"
      ]
     },
     "execution_count": 29,
     "metadata": {},
     "output_type": "execute_result"
    }
   ],
   "source": [
    "len(test_data)"
   ]
  },
  {
   "cell_type": "code",
   "execution_count": 30,
   "metadata": {},
   "outputs": [
    {
     "data": {
      "text/plain": [
       "(1, 100)"
      ]
     },
     "execution_count": 30,
     "metadata": {},
     "output_type": "execute_result"
    }
   ],
   "source": [
    "x_input=test_data[2966:].reshape(1,-1)\n",
    "x_input.shape\n"
   ]
  },
  {
   "cell_type": "code",
   "execution_count": 32,
   "metadata": {},
   "outputs": [],
   "source": [
    "temp_input=list(x_input)\n",
    "temp_input=temp_input[0].tolist()\n",
    "#temp_input[temp_input<0] = 0"
   ]
  },
  {
   "cell_type": "code",
   "execution_count": 33,
   "metadata": {},
   "outputs": [
    {
     "data": {
      "text/plain": [
       "[0.0,\n",
       " 0.0,\n",
       " 0.0,\n",
       " 0.0,\n",
       " 0.0,\n",
       " 0.0,\n",
       " 0.0,\n",
       " 0.0,\n",
       " 0.0,\n",
       " 0.0,\n",
       " 0.0,\n",
       " 0.017976056203026055,\n",
       " 0.022424901932762375,\n",
       " 0.2550247692416886,\n",
       " 0.4402236748668105,\n",
       " 0.31698081541397816,\n",
       " 0.5544687306437442,\n",
       " 0.34922491406052575,\n",
       " 0.3189585664750827,\n",
       " 0.102242381831679,\n",
       " 0.06765617866354155,\n",
       " 0.0,\n",
       " 0.0,\n",
       " 0.0,\n",
       " 0.0,\n",
       " 0.0,\n",
       " 0.0,\n",
       " 0.0,\n",
       " 0.0,\n",
       " 0.0,\n",
       " 0.0,\n",
       " 0.0,\n",
       " 0.0,\n",
       " 0.0,\n",
       " 0.0,\n",
       " 0.011204225044967363,\n",
       " 0.09292831132428016,\n",
       " 0.13874800439840684,\n",
       " 0.3474490169392033,\n",
       " 0.31658534483150613,\n",
       " 0.302206794524362,\n",
       " 0.21234710714531219,\n",
       " 0.05772879721050113,\n",
       " 0.19749810487963262,\n",
       " 0.06922957816734485,\n",
       " 0.0,\n",
       " 0.0,\n",
       " 0.0,\n",
       " 0.0,\n",
       " 0.0,\n",
       " 0.0,\n",
       " 0.0,\n",
       " 0.0,\n",
       " 0.0,\n",
       " 0.0,\n",
       " 0.0,\n",
       " 0.0,\n",
       " 0.0,\n",
       " 0.0,\n",
       " 0.06278673401267584,\n",
       " 0.17774306697635991,\n",
       " 0.07328661636172794,\n",
       " 0.49436631869940145,\n",
       " 0.12607268706064095,\n",
       " 0.4711706527353258,\n",
       " 0.44369082540836907,\n",
       " 0.3017652162561308,\n",
       " 0.04677423059230199,\n",
       " 0.07158967742304978,\n",
       " 0.0,\n",
       " 0.0,\n",
       " 0.0,\n",
       " 0.0,\n",
       " 0.0,\n",
       " 0.0,\n",
       " 0.0,\n",
       " 0.0,\n",
       " 0.0,\n",
       " 0.0,\n",
       " 0.0,\n",
       " 0.0,\n",
       " 0.0,\n",
       " 0.0,\n",
       " 0.023548376519976686,\n",
       " 0.011384422485836217,\n",
       " 0.2777179600044678,\n",
       " 0.08534923836214209,\n",
       " 0.28059314753992143,\n",
       " 0.0899551787256751,\n",
       " 0.1574811570068774,\n",
       " 0.25103754557607333,\n",
       " 0.2081048955239915,\n",
       " 0.07394977667875471,\n",
       " 0.0,\n",
       " 0.0,\n",
       " 0.0,\n",
       " 0.0,\n",
       " 0.0,\n",
       " 0.0,\n",
       " 0.0]"
      ]
     },
     "execution_count": 33,
     "metadata": {},
     "output_type": "execute_result"
    }
   ],
   "source": [
    "temp_input"
   ]
  },
  {
   "cell_type": "code",
   "execution_count": 34,
   "metadata": {},
   "outputs": [
    {
     "name": "stdout",
     "output_type": "stream",
     "text": [
      "[0.]\n",
      "101\n",
      "1 hour input [0.         0.         0.         0.         0.         0.\n",
      " 0.         0.         0.         0.         0.01797606 0.0224249\n",
      " 0.25502477 0.44022367 0.31698082 0.55446873 0.34922491 0.31895857\n",
      " 0.10224238 0.06765618 0.         0.         0.         0.\n",
      " 0.         0.         0.         0.         0.         0.\n",
      " 0.         0.         0.         0.         0.01120423 0.09292831\n",
      " 0.138748   0.34744902 0.31658534 0.30220679 0.21234711 0.0577288\n",
      " 0.1974981  0.06922958 0.         0.         0.         0.\n",
      " 0.         0.         0.         0.         0.         0.\n",
      " 0.         0.         0.         0.         0.06278673 0.17774307\n",
      " 0.07328662 0.49436632 0.12607269 0.47117065 0.44369083 0.30176522\n",
      " 0.04677423 0.07158968 0.         0.         0.         0.\n",
      " 0.         0.         0.         0.         0.         0.\n",
      " 0.         0.         0.         0.         0.02354838 0.01138442\n",
      " 0.27771796 0.08534924 0.28059315 0.08995518 0.15748116 0.25103755\n",
      " 0.2081049  0.07394978 0.         0.         0.         0.\n",
      " 0.         0.         0.         0.        ]\n",
      "1 hour output [[0.]]\n",
      "2 hour input [0.         0.         0.         0.         0.         0.\n",
      " 0.         0.         0.         0.01797606 0.0224249  0.25502477\n",
      " 0.44022367 0.31698082 0.55446873 0.34922491 0.31895857 0.10224238\n",
      " 0.06765618 0.         0.         0.         0.         0.\n",
      " 0.         0.         0.         0.         0.         0.\n",
      " 0.         0.         0.         0.01120423 0.09292831 0.138748\n",
      " 0.34744902 0.31658534 0.30220679 0.21234711 0.0577288  0.1974981\n",
      " 0.06922958 0.         0.         0.         0.         0.\n",
      " 0.         0.         0.         0.         0.         0.\n",
      " 0.         0.         0.         0.06278673 0.17774307 0.07328662\n",
      " 0.49436632 0.12607269 0.47117065 0.44369083 0.30176522 0.04677423\n",
      " 0.07158968 0.         0.         0.         0.         0.\n",
      " 0.         0.         0.         0.         0.         0.\n",
      " 0.         0.         0.         0.02354838 0.01138442 0.27771796\n",
      " 0.08534924 0.28059315 0.08995518 0.15748116 0.25103755 0.2081049\n",
      " 0.07394978 0.         0.         0.         0.         0.\n",
      " 0.         0.         0.         0.        ]\n",
      "2 hour output [[0.]]\n",
      "3 hour input [0.         0.         0.         0.         0.         0.\n",
      " 0.         0.         0.01797606 0.0224249  0.25502477 0.44022367\n",
      " 0.31698082 0.55446873 0.34922491 0.31895857 0.10224238 0.06765618\n",
      " 0.         0.         0.         0.         0.         0.\n",
      " 0.         0.         0.         0.         0.         0.\n",
      " 0.         0.         0.01120423 0.09292831 0.138748   0.34744902\n",
      " 0.31658534 0.30220679 0.21234711 0.0577288  0.1974981  0.06922958\n",
      " 0.         0.         0.         0.         0.         0.\n",
      " 0.         0.         0.         0.         0.         0.\n",
      " 0.         0.         0.06278673 0.17774307 0.07328662 0.49436632\n",
      " 0.12607269 0.47117065 0.44369083 0.30176522 0.04677423 0.07158968\n",
      " 0.         0.         0.         0.         0.         0.\n",
      " 0.         0.         0.         0.         0.         0.\n",
      " 0.         0.         0.02354838 0.01138442 0.27771796 0.08534924\n",
      " 0.28059315 0.08995518 0.15748116 0.25103755 0.2081049  0.07394978\n",
      " 0.         0.         0.         0.         0.         0.\n",
      " 0.         0.         0.         0.        ]\n",
      "3 hour output [[0.]]\n",
      "4 hour input [0.         0.         0.         0.         0.         0.\n",
      " 0.         0.01797606 0.0224249  0.25502477 0.44022367 0.31698082\n",
      " 0.55446873 0.34922491 0.31895857 0.10224238 0.06765618 0.\n",
      " 0.         0.         0.         0.         0.         0.\n",
      " 0.         0.         0.         0.         0.         0.\n",
      " 0.         0.01120423 0.09292831 0.138748   0.34744902 0.31658534\n",
      " 0.30220679 0.21234711 0.0577288  0.1974981  0.06922958 0.\n",
      " 0.         0.         0.         0.         0.         0.\n",
      " 0.         0.         0.         0.         0.         0.\n",
      " 0.         0.06278673 0.17774307 0.07328662 0.49436632 0.12607269\n",
      " 0.47117065 0.44369083 0.30176522 0.04677423 0.07158968 0.\n",
      " 0.         0.         0.         0.         0.         0.\n",
      " 0.         0.         0.         0.         0.         0.\n",
      " 0.         0.02354838 0.01138442 0.27771796 0.08534924 0.28059315\n",
      " 0.08995518 0.15748116 0.25103755 0.2081049  0.07394978 0.\n",
      " 0.         0.         0.         0.         0.         0.\n",
      " 0.         0.         0.         0.        ]\n",
      "4 hour output [[0.]]\n",
      "5 hour input [0.         0.         0.         0.         0.         0.\n",
      " 0.01797606 0.0224249  0.25502477 0.44022367 0.31698082 0.55446873\n",
      " 0.34922491 0.31895857 0.10224238 0.06765618 0.         0.\n",
      " 0.         0.         0.         0.         0.         0.\n",
      " 0.         0.         0.         0.         0.         0.\n",
      " 0.01120423 0.09292831 0.138748   0.34744902 0.31658534 0.30220679\n",
      " 0.21234711 0.0577288  0.1974981  0.06922958 0.         0.\n",
      " 0.         0.         0.         0.         0.         0.\n",
      " 0.         0.         0.         0.         0.         0.\n",
      " 0.06278673 0.17774307 0.07328662 0.49436632 0.12607269 0.47117065\n",
      " 0.44369083 0.30176522 0.04677423 0.07158968 0.         0.\n",
      " 0.         0.         0.         0.         0.         0.\n",
      " 0.         0.         0.         0.         0.         0.\n",
      " 0.02354838 0.01138442 0.27771796 0.08534924 0.28059315 0.08995518\n",
      " 0.15748116 0.25103755 0.2081049  0.07394978 0.         0.\n",
      " 0.         0.         0.         0.         0.         0.\n",
      " 0.         0.         0.         0.        ]\n",
      "5 hour output [[0.01455231]]\n",
      "6 hour input [0.         0.         0.         0.         0.         0.01797606\n",
      " 0.0224249  0.25502477 0.44022367 0.31698082 0.55446873 0.34922491\n",
      " 0.31895857 0.10224238 0.06765618 0.         0.         0.\n",
      " 0.         0.         0.         0.         0.         0.\n",
      " 0.         0.         0.         0.         0.         0.01120423\n",
      " 0.09292831 0.138748   0.34744902 0.31658534 0.30220679 0.21234711\n",
      " 0.0577288  0.1974981  0.06922958 0.         0.         0.\n",
      " 0.         0.         0.         0.         0.         0.\n",
      " 0.         0.         0.         0.         0.         0.06278673\n",
      " 0.17774307 0.07328662 0.49436632 0.12607269 0.47117065 0.44369083\n",
      " 0.30176522 0.04677423 0.07158968 0.         0.         0.\n",
      " 0.         0.         0.         0.         0.         0.\n",
      " 0.         0.         0.         0.         0.         0.02354838\n",
      " 0.01138442 0.27771796 0.08534924 0.28059315 0.08995518 0.15748116\n",
      " 0.25103755 0.2081049  0.07394978 0.         0.         0.\n",
      " 0.         0.         0.         0.         0.         0.\n",
      " 0.         0.         0.         0.01455231]\n",
      "6 hour output [[0.05177952]]\n",
      "7 hour input [0.         0.         0.         0.         0.01797606 0.0224249\n",
      " 0.25502477 0.44022367 0.31698082 0.55446873 0.34922491 0.31895857\n",
      " 0.10224238 0.06765618 0.         0.         0.         0.\n",
      " 0.         0.         0.         0.         0.         0.\n",
      " 0.         0.         0.         0.         0.01120423 0.09292831\n",
      " 0.138748   0.34744902 0.31658534 0.30220679 0.21234711 0.0577288\n",
      " 0.1974981  0.06922958 0.         0.         0.         0.\n",
      " 0.         0.         0.         0.         0.         0.\n",
      " 0.         0.         0.         0.         0.06278673 0.17774307\n",
      " 0.07328662 0.49436632 0.12607269 0.47117065 0.44369083 0.30176522\n",
      " 0.04677423 0.07158968 0.         0.         0.         0.\n",
      " 0.         0.         0.         0.         0.         0.\n",
      " 0.         0.         0.         0.         0.02354838 0.01138442\n",
      " 0.27771796 0.08534924 0.28059315 0.08995518 0.15748116 0.25103755\n",
      " 0.2081049  0.07394978 0.         0.         0.         0.\n",
      " 0.         0.         0.         0.         0.         0.\n",
      " 0.         0.         0.01455231 0.05177952]\n",
      "7 hour output [[0.11038522]]\n",
      "8 hour input [0.         0.         0.         0.01797606 0.0224249  0.25502477\n",
      " 0.44022367 0.31698082 0.55446873 0.34922491 0.31895857 0.10224238\n",
      " 0.06765618 0.         0.         0.         0.         0.\n",
      " 0.         0.         0.         0.         0.         0.\n",
      " 0.         0.         0.         0.01120423 0.09292831 0.138748\n",
      " 0.34744902 0.31658534 0.30220679 0.21234711 0.0577288  0.1974981\n",
      " 0.06922958 0.         0.         0.         0.         0.\n",
      " 0.         0.         0.         0.         0.         0.\n",
      " 0.         0.         0.         0.06278673 0.17774307 0.07328662\n",
      " 0.49436632 0.12607269 0.47117065 0.44369083 0.30176522 0.04677423\n",
      " 0.07158968 0.         0.         0.         0.         0.\n",
      " 0.         0.         0.         0.         0.         0.\n",
      " 0.         0.         0.         0.02354838 0.01138442 0.27771796\n",
      " 0.08534924 0.28059315 0.08995518 0.15748116 0.25103755 0.2081049\n",
      " 0.07394978 0.         0.         0.         0.         0.\n",
      " 0.         0.         0.         0.         0.         0.\n",
      " 0.         0.01455231 0.05177952 0.11038522]\n",
      "8 hour output [[0.184134]]\n",
      "9 hour input [0.         0.         0.01797606 0.0224249  0.25502477 0.44022367\n",
      " 0.31698082 0.55446873 0.34922491 0.31895857 0.10224238 0.06765618\n",
      " 0.         0.         0.         0.         0.         0.\n",
      " 0.         0.         0.         0.         0.         0.\n",
      " 0.         0.         0.01120423 0.09292831 0.138748   0.34744902\n",
      " 0.31658534 0.30220679 0.21234711 0.0577288  0.1974981  0.06922958\n",
      " 0.         0.         0.         0.         0.         0.\n",
      " 0.         0.         0.         0.         0.         0.\n",
      " 0.         0.         0.06278673 0.17774307 0.07328662 0.49436632\n",
      " 0.12607269 0.47117065 0.44369083 0.30176522 0.04677423 0.07158968\n",
      " 0.         0.         0.         0.         0.         0.\n",
      " 0.         0.         0.         0.         0.         0.\n",
      " 0.         0.         0.02354838 0.01138442 0.27771796 0.08534924\n",
      " 0.28059315 0.08995518 0.15748116 0.25103755 0.2081049  0.07394978\n",
      " 0.         0.         0.         0.         0.         0.\n",
      " 0.         0.         0.         0.         0.         0.\n",
      " 0.01455231 0.05177952 0.11038522 0.18413401]\n",
      "9 hour output [[0.2596984]]\n",
      "10 hour input [0.         0.01797606 0.0224249  0.25502477 0.44022367 0.31698082\n",
      " 0.55446873 0.34922491 0.31895857 0.10224238 0.06765618 0.\n",
      " 0.         0.         0.         0.         0.         0.\n",
      " 0.         0.         0.         0.         0.         0.\n",
      " 0.         0.01120423 0.09292831 0.138748   0.34744902 0.31658534\n",
      " 0.30220679 0.21234711 0.0577288  0.1974981  0.06922958 0.\n",
      " 0.         0.         0.         0.         0.         0.\n",
      " 0.         0.         0.         0.         0.         0.\n",
      " 0.         0.06278673 0.17774307 0.07328662 0.49436632 0.12607269\n",
      " 0.47117065 0.44369083 0.30176522 0.04677423 0.07158968 0.\n",
      " 0.         0.         0.         0.         0.         0.\n",
      " 0.         0.         0.         0.         0.         0.\n",
      " 0.         0.02354838 0.01138442 0.27771796 0.08534924 0.28059315\n",
      " 0.08995518 0.15748116 0.25103755 0.2081049  0.07394978 0.\n",
      " 0.         0.         0.         0.         0.         0.\n",
      " 0.         0.         0.         0.         0.         0.01455231\n",
      " 0.05177952 0.11038522 0.18413401 0.25969839]\n",
      "10 hour output [[0.32134396]]\n",
      "11 hour input [0.01797606 0.0224249  0.25502477 0.44022367 0.31698082 0.55446873\n",
      " 0.34922491 0.31895857 0.10224238 0.06765618 0.         0.\n",
      " 0.         0.         0.         0.         0.         0.\n",
      " 0.         0.         0.         0.         0.         0.\n",
      " 0.01120423 0.09292831 0.138748   0.34744902 0.31658534 0.30220679\n",
      " 0.21234711 0.0577288  0.1974981  0.06922958 0.         0.\n",
      " 0.         0.         0.         0.         0.         0.\n",
      " 0.         0.         0.         0.         0.         0.\n",
      " 0.06278673 0.17774307 0.07328662 0.49436632 0.12607269 0.47117065\n",
      " 0.44369083 0.30176522 0.04677423 0.07158968 0.         0.\n",
      " 0.         0.         0.         0.         0.         0.\n",
      " 0.         0.         0.         0.         0.         0.\n",
      " 0.02354838 0.01138442 0.27771796 0.08534924 0.28059315 0.08995518\n",
      " 0.15748116 0.25103755 0.2081049  0.07394978 0.         0.\n",
      " 0.         0.         0.         0.         0.         0.\n",
      " 0.         0.         0.         0.         0.01455231 0.05177952\n",
      " 0.11038522 0.18413401 0.25969839 0.32134396]\n",
      "11 hour output [[0.3555437]]\n",
      "12 hour input [0.0224249  0.25502477 0.44022367 0.31698082 0.55446873 0.34922491\n",
      " 0.31895857 0.10224238 0.06765618 0.         0.         0.\n",
      " 0.         0.         0.         0.         0.         0.\n",
      " 0.         0.         0.         0.         0.         0.01120423\n",
      " 0.09292831 0.138748   0.34744902 0.31658534 0.30220679 0.21234711\n",
      " 0.0577288  0.1974981  0.06922958 0.         0.         0.\n",
      " 0.         0.         0.         0.         0.         0.\n",
      " 0.         0.         0.         0.         0.         0.06278673\n",
      " 0.17774307 0.07328662 0.49436632 0.12607269 0.47117065 0.44369083\n",
      " 0.30176522 0.04677423 0.07158968 0.         0.         0.\n",
      " 0.         0.         0.         0.         0.         0.\n",
      " 0.         0.         0.         0.         0.         0.02354838\n",
      " 0.01138442 0.27771796 0.08534924 0.28059315 0.08995518 0.15748116\n",
      " 0.25103755 0.2081049  0.07394978 0.         0.         0.\n",
      " 0.         0.         0.         0.         0.         0.\n",
      " 0.         0.         0.         0.01455231 0.05177952 0.11038522\n"
     ]
    },
    {
     "name": "stdout",
     "output_type": "stream",
     "text": [
      " 0.18413401 0.25969839 0.32134396 0.3555437 ]\n",
      "12 hour output [[0.35503188]]\n",
      "13 hour input [0.25502477 0.44022367 0.31698082 0.55446873 0.34922491 0.31895857\n",
      " 0.10224238 0.06765618 0.         0.         0.         0.\n",
      " 0.         0.         0.         0.         0.         0.\n",
      " 0.         0.         0.         0.         0.01120423 0.09292831\n",
      " 0.138748   0.34744902 0.31658534 0.30220679 0.21234711 0.0577288\n",
      " 0.1974981  0.06922958 0.         0.         0.         0.\n",
      " 0.         0.         0.         0.         0.         0.\n",
      " 0.         0.         0.         0.         0.06278673 0.17774307\n",
      " 0.07328662 0.49436632 0.12607269 0.47117065 0.44369083 0.30176522\n",
      " 0.04677423 0.07158968 0.         0.         0.         0.\n",
      " 0.         0.         0.         0.         0.         0.\n",
      " 0.         0.         0.         0.         0.02354838 0.01138442\n",
      " 0.27771796 0.08534924 0.28059315 0.08995518 0.15748116 0.25103755\n",
      " 0.2081049  0.07394978 0.         0.         0.         0.\n",
      " 0.         0.         0.         0.         0.         0.\n",
      " 0.         0.         0.01455231 0.05177952 0.11038522 0.18413401\n",
      " 0.25969839 0.32134396 0.3555437  0.35503188]\n",
      "13 hour output [[0.32107586]]\n",
      "14 hour input [0.44022367 0.31698082 0.55446873 0.34922491 0.31895857 0.10224238\n",
      " 0.06765618 0.         0.         0.         0.         0.\n",
      " 0.         0.         0.         0.         0.         0.\n",
      " 0.         0.         0.         0.01120423 0.09292831 0.138748\n",
      " 0.34744902 0.31658534 0.30220679 0.21234711 0.0577288  0.1974981\n",
      " 0.06922958 0.         0.         0.         0.         0.\n",
      " 0.         0.         0.         0.         0.         0.\n",
      " 0.         0.         0.         0.06278673 0.17774307 0.07328662\n",
      " 0.49436632 0.12607269 0.47117065 0.44369083 0.30176522 0.04677423\n",
      " 0.07158968 0.         0.         0.         0.         0.\n",
      " 0.         0.         0.         0.         0.         0.\n",
      " 0.         0.         0.         0.02354838 0.01138442 0.27771796\n",
      " 0.08534924 0.28059315 0.08995518 0.15748116 0.25103755 0.2081049\n",
      " 0.07394978 0.         0.         0.         0.         0.\n",
      " 0.         0.         0.         0.         0.         0.\n",
      " 0.         0.01455231 0.05177952 0.11038522 0.18413401 0.25969839\n",
      " 0.32134396 0.3555437  0.35503188 0.32107586]\n",
      "14 hour output [[0.26200035]]\n",
      "15 hour input [0.31698082 0.55446873 0.34922491 0.31895857 0.10224238 0.06765618\n",
      " 0.         0.         0.         0.         0.         0.\n",
      " 0.         0.         0.         0.         0.         0.\n",
      " 0.         0.         0.01120423 0.09292831 0.138748   0.34744902\n",
      " 0.31658534 0.30220679 0.21234711 0.0577288  0.1974981  0.06922958\n",
      " 0.         0.         0.         0.         0.         0.\n",
      " 0.         0.         0.         0.         0.         0.\n",
      " 0.         0.         0.06278673 0.17774307 0.07328662 0.49436632\n",
      " 0.12607269 0.47117065 0.44369083 0.30176522 0.04677423 0.07158968\n",
      " 0.         0.         0.         0.         0.         0.\n",
      " 0.         0.         0.         0.         0.         0.\n",
      " 0.         0.         0.02354838 0.01138442 0.27771796 0.08534924\n",
      " 0.28059315 0.08995518 0.15748116 0.25103755 0.2081049  0.07394978\n",
      " 0.         0.         0.         0.         0.         0.\n",
      " 0.         0.         0.         0.         0.         0.\n",
      " 0.01455231 0.05177952 0.11038522 0.18413401 0.25969839 0.32134396\n",
      " 0.3555437  0.35503188 0.32107586 0.26200035]\n",
      "15 hour output [[0.19032693]]\n",
      "16 hour input [0.55446873 0.34922491 0.31895857 0.10224238 0.06765618 0.\n",
      " 0.         0.         0.         0.         0.         0.\n",
      " 0.         0.         0.         0.         0.         0.\n",
      " 0.         0.01120423 0.09292831 0.138748   0.34744902 0.31658534\n",
      " 0.30220679 0.21234711 0.0577288  0.1974981  0.06922958 0.\n",
      " 0.         0.         0.         0.         0.         0.\n",
      " 0.         0.         0.         0.         0.         0.\n",
      " 0.         0.06278673 0.17774307 0.07328662 0.49436632 0.12607269\n",
      " 0.47117065 0.44369083 0.30176522 0.04677423 0.07158968 0.\n",
      " 0.         0.         0.         0.         0.         0.\n",
      " 0.         0.         0.         0.         0.         0.\n",
      " 0.         0.02354838 0.01138442 0.27771796 0.08534924 0.28059315\n",
      " 0.08995518 0.15748116 0.25103755 0.2081049  0.07394978 0.\n",
      " 0.         0.         0.         0.         0.         0.\n",
      " 0.         0.         0.         0.         0.         0.01455231\n",
      " 0.05177952 0.11038522 0.18413401 0.25969839 0.32134396 0.3555437\n",
      " 0.35503188 0.32107586 0.26200035 0.19032693]\n",
      "16 hour output [[0.11941894]]\n",
      "17 hour input [0.34922491 0.31895857 0.10224238 0.06765618 0.         0.\n",
      " 0.         0.         0.         0.         0.         0.\n",
      " 0.         0.         0.         0.         0.         0.\n",
      " 0.01120423 0.09292831 0.138748   0.34744902 0.31658534 0.30220679\n",
      " 0.21234711 0.0577288  0.1974981  0.06922958 0.         0.\n",
      " 0.         0.         0.         0.         0.         0.\n",
      " 0.         0.         0.         0.         0.         0.\n",
      " 0.06278673 0.17774307 0.07328662 0.49436632 0.12607269 0.47117065\n",
      " 0.44369083 0.30176522 0.04677423 0.07158968 0.         0.\n",
      " 0.         0.         0.         0.         0.         0.\n",
      " 0.         0.         0.         0.         0.         0.\n",
      " 0.02354838 0.01138442 0.27771796 0.08534924 0.28059315 0.08995518\n",
      " 0.15748116 0.25103755 0.2081049  0.07394978 0.         0.\n",
      " 0.         0.         0.         0.         0.         0.\n",
      " 0.         0.         0.         0.         0.01455231 0.05177952\n",
      " 0.11038522 0.18413401 0.25969839 0.32134396 0.3555437  0.35503188\n",
      " 0.32107586 0.26200035 0.19032693 0.11941894]\n",
      "17 hour output [[0.05947329]]\n",
      "18 hour input [0.31895857 0.10224238 0.06765618 0.         0.         0.\n",
      " 0.         0.         0.         0.         0.         0.\n",
      " 0.         0.         0.         0.         0.         0.01120423\n",
      " 0.09292831 0.138748   0.34744902 0.31658534 0.30220679 0.21234711\n",
      " 0.0577288  0.1974981  0.06922958 0.         0.         0.\n",
      " 0.         0.         0.         0.         0.         0.\n",
      " 0.         0.         0.         0.         0.         0.06278673\n",
      " 0.17774307 0.07328662 0.49436632 0.12607269 0.47117065 0.44369083\n",
      " 0.30176522 0.04677423 0.07158968 0.         0.         0.\n",
      " 0.         0.         0.         0.         0.         0.\n",
      " 0.         0.         0.         0.         0.         0.02354838\n",
      " 0.01138442 0.27771796 0.08534924 0.28059315 0.08995518 0.15748116\n",
      " 0.25103755 0.2081049  0.07394978 0.         0.         0.\n",
      " 0.         0.         0.         0.         0.         0.\n",
      " 0.         0.         0.         0.01455231 0.05177952 0.11038522\n",
      " 0.18413401 0.25969839 0.32134396 0.3555437  0.35503188 0.32107586\n",
      " 0.26200035 0.19032693 0.11941894 0.05947329]\n",
      "18 hour output [[0.0184072]]\n",
      "19 hour input [0.10224238 0.06765618 0.         0.         0.         0.\n",
      " 0.         0.         0.         0.         0.         0.\n",
      " 0.         0.         0.         0.         0.01120423 0.09292831\n",
      " 0.138748   0.34744902 0.31658534 0.30220679 0.21234711 0.0577288\n",
      " 0.1974981  0.06922958 0.         0.         0.         0.\n",
      " 0.         0.         0.         0.         0.         0.\n",
      " 0.         0.         0.         0.         0.06278673 0.17774307\n",
      " 0.07328662 0.49436632 0.12607269 0.47117065 0.44369083 0.30176522\n",
      " 0.04677423 0.07158968 0.         0.         0.         0.\n",
      " 0.         0.         0.         0.         0.         0.\n",
      " 0.         0.         0.         0.         0.02354838 0.01138442\n",
      " 0.27771796 0.08534924 0.28059315 0.08995518 0.15748116 0.25103755\n",
      " 0.2081049  0.07394978 0.         0.         0.         0.\n",
      " 0.         0.         0.         0.         0.         0.\n",
      " 0.         0.         0.01455231 0.05177952 0.11038522 0.18413401\n",
      " 0.25969839 0.32134396 0.3555437  0.35503188 0.32107586 0.26200035\n",
      " 0.19032693 0.11941894 0.05947329 0.0184072 ]\n",
      "19 hour output [[0.]]\n",
      "20 hour input [0.06765618 0.         0.         0.         0.         0.\n",
      " 0.         0.         0.         0.         0.         0.\n",
      " 0.         0.         0.         0.01120423 0.09292831 0.138748\n",
      " 0.34744902 0.31658534 0.30220679 0.21234711 0.0577288  0.1974981\n",
      " 0.06922958 0.         0.         0.         0.         0.\n",
      " 0.         0.         0.         0.         0.         0.\n",
      " 0.         0.         0.         0.06278673 0.17774307 0.07328662\n",
      " 0.49436632 0.12607269 0.47117065 0.44369083 0.30176522 0.04677423\n",
      " 0.07158968 0.         0.         0.         0.         0.\n",
      " 0.         0.         0.         0.         0.         0.\n",
      " 0.         0.         0.         0.02354838 0.01138442 0.27771796\n",
      " 0.08534924 0.28059315 0.08995518 0.15748116 0.25103755 0.2081049\n",
      " 0.07394978 0.         0.         0.         0.         0.\n",
      " 0.         0.         0.         0.         0.         0.\n",
      " 0.         0.01455231 0.05177952 0.11038522 0.18413401 0.25969839\n",
      " 0.32134396 0.3555437  0.35503188 0.32107586 0.26200035 0.19032693\n",
      " 0.11941894 0.05947329 0.0184072  0.        ]\n",
      "20 hour output [[0.]]\n",
      "21 hour input [0.         0.         0.         0.         0.         0.\n",
      " 0.         0.         0.         0.         0.         0.\n",
      " 0.         0.         0.01120423 0.09292831 0.138748   0.34744902\n",
      " 0.31658534 0.30220679 0.21234711 0.0577288  0.1974981  0.06922958\n",
      " 0.         0.         0.         0.         0.         0.\n",
      " 0.         0.         0.         0.         0.         0.\n",
      " 0.         0.         0.06278673 0.17774307 0.07328662 0.49436632\n",
      " 0.12607269 0.47117065 0.44369083 0.30176522 0.04677423 0.07158968\n",
      " 0.         0.         0.         0.         0.         0.\n",
      " 0.         0.         0.         0.         0.         0.\n",
      " 0.         0.         0.02354838 0.01138442 0.27771796 0.08534924\n",
      " 0.28059315 0.08995518 0.15748116 0.25103755 0.2081049  0.07394978\n",
      " 0.         0.         0.         0.         0.         0.\n",
      " 0.         0.         0.         0.         0.         0.\n",
      " 0.01455231 0.05177952 0.11038522 0.18413401 0.25969839 0.32134396\n",
      " 0.3555437  0.35503188 0.32107586 0.26200035 0.19032693 0.11941894\n",
      " 0.05947329 0.0184072  0.         0.        ]\n",
      "21 hour output [[0.]]\n",
      "22 hour input [0.         0.         0.         0.         0.         0.\n",
      " 0.         0.         0.         0.         0.         0.\n",
      " 0.         0.01120423 0.09292831 0.138748   0.34744902 0.31658534\n",
      " 0.30220679 0.21234711 0.0577288  0.1974981  0.06922958 0.\n",
      " 0.         0.         0.         0.         0.         0.\n",
      " 0.         0.         0.         0.         0.         0.\n",
      " 0.         0.06278673 0.17774307 0.07328662 0.49436632 0.12607269\n",
      " 0.47117065 0.44369083 0.30176522 0.04677423 0.07158968 0.\n",
      " 0.         0.         0.         0.         0.         0.\n",
      " 0.         0.         0.         0.         0.         0.\n",
      " 0.         0.02354838 0.01138442 0.27771796 0.08534924 0.28059315\n",
      " 0.08995518 0.15748116 0.25103755 0.2081049  0.07394978 0.\n",
      " 0.         0.         0.         0.         0.         0.\n",
      " 0.         0.         0.         0.         0.         0.01455231\n",
      " 0.05177952 0.11038522 0.18413401 0.25969839 0.32134396 0.3555437\n",
      " 0.35503188 0.32107586 0.26200035 0.19032693 0.11941894 0.05947329\n",
      " 0.0184072  0.         0.         0.        ]\n",
      "22 hour output [[0.00133115]]\n",
      "23 hour input [0.         0.         0.         0.         0.         0.\n",
      " 0.         0.         0.         0.         0.         0.\n",
      " 0.01120423 0.09292831 0.138748   0.34744902 0.31658534 0.30220679\n",
      " 0.21234711 0.0577288  0.1974981  0.06922958 0.         0.\n",
      " 0.         0.         0.         0.         0.         0.\n",
      " 0.         0.         0.         0.         0.         0.\n",
      " 0.06278673 0.17774307 0.07328662 0.49436632 0.12607269 0.47117065\n",
      " 0.44369083 0.30176522 0.04677423 0.07158968 0.         0.\n",
      " 0.         0.         0.         0.         0.         0.\n",
      " 0.         0.         0.         0.         0.         0.\n",
      " 0.02354838 0.01138442 0.27771796 0.08534924 0.28059315 0.08995518\n",
      " 0.15748116 0.25103755 0.2081049  0.07394978 0.         0.\n",
      " 0.         0.         0.         0.         0.         0.\n",
      " 0.         0.         0.         0.         0.01455231 0.05177952\n",
      " 0.11038522 0.18413401 0.25969839 0.32134396 0.3555437  0.35503188\n",
      " 0.32107586 0.26200035 0.19032693 0.11941894 0.05947329 0.0184072\n",
      " 0.         0.         0.         0.00133115]\n"
     ]
    },
    {
     "name": "stdout",
     "output_type": "stream",
     "text": [
      "23 hour output [[0.00434544]]\n",
      "[[0.0], [0.0], [0.0], [0.0], [0.0], [0.014552313834428787], [0.051779523491859436], [0.1103852242231369], [0.18413400650024414], [0.25969839096069336], [0.32134395837783813], [0.35554370284080505], [0.3550318777561188], [0.3210758566856384], [0.26200035214424133], [0.19032692909240723], [0.11941894143819809], [0.059473294764757156], [0.018407201394438744], [0.0], [0.0], [0.0], [0.0013311468064785004], [0.004345439374446869]]\n"
     ]
    }
   ],
   "source": [
    "# demonstrate prediction for next 24 hours\n",
    "from numpy import array\n",
    "\n",
    "lst_output=[]\n",
    "n_steps=100\n",
    "i=0\n",
    "while(i<24):\n",
    "    \n",
    "    if(len(temp_input)>100):\n",
    "        #print(temp_input)\n",
    "        x_input=np.array(temp_input[1:])\n",
    "        x_input[x_input<0] = 0\n",
    "        print(\"{} hour input {}\".format(i,x_input))\n",
    "        x_input=x_input.reshape(1,-1)\n",
    "        x_input = x_input.reshape((1, n_steps, 1))\n",
    "        #print(x_input)\n",
    "        yhat = model.predict(x_input, verbose=0)\n",
    "        yhat[yhat<0] = 0\n",
    "        print(\"{} hour output {}\".format(i,yhat))\n",
    "        temp_input.extend(yhat[0].tolist())\n",
    "        temp_input=temp_input[1:]\n",
    "        #print(temp_input)\n",
    "        lst_output.extend(yhat.tolist())\n",
    "        i=i+1\n",
    "    else:\n",
    "        x_input = x_input.reshape((1, n_steps,1))\n",
    "        x_input[x_input<0] = 0\n",
    "        yhat = model.predict(x_input, verbose=0)\n",
    "        yhat[yhat<0] = 0\n",
    "        print(yhat[0])\n",
    "        temp_input.extend(yhat[0].tolist())\n",
    "        print(len(temp_input))\n",
    "        lst_output.extend(yhat.tolist())\n",
    "        i=i+1\n",
    "    \n",
    "\n",
    "print(lst_output)"
   ]
  },
  {
   "cell_type": "code",
   "execution_count": 88,
   "metadata": {},
   "outputs": [
    {
     "data": {
      "text/plain": [
       "array([0.        , 0.        , 0.        , 0.        , 0.        ,\n",
       "       0.        , 0.        , 0.        , 0.        , 0.        ,\n",
       "       0.        , 0.01120423, 0.09292831, 0.138748  , 0.34744902,\n",
       "       0.31658534, 0.30220679, 0.21234711, 0.0577288 , 0.1974981 ,\n",
       "       0.06922958, 0.        , 0.        , 0.        , 0.        ,\n",
       "       0.        , 0.        , 0.        , 0.        , 0.        ,\n",
       "       0.        , 0.        , 0.        , 0.        , 0.        ,\n",
       "       0.06278673, 0.17774307, 0.07328662, 0.49436632, 0.12607269,\n",
       "       0.47117065, 0.44369083, 0.30176522, 0.04677423, 0.07158968,\n",
       "       0.        , 0.        , 0.        , 0.        , 0.        ,\n",
       "       0.        , 0.        , 0.        , 0.        , 0.        ,\n",
       "       0.        , 0.        , 0.        , 0.        , 0.02354838,\n",
       "       0.01138442, 0.27771796, 0.08534924, 0.28059315, 0.08995518,\n",
       "       0.15748116, 0.25103755, 0.2081049 , 0.07394978, 0.        ,\n",
       "       0.        , 0.        , 0.        , 0.        , 0.        ,\n",
       "       0.        , 0.        , 0.        , 0.        , 0.        ,\n",
       "       0.        , 0.01455231, 0.05177952, 0.11038522, 0.18413401,\n",
       "       0.25969839, 0.32134396, 0.3555437 , 0.35503188, 0.32107586,\n",
       "       0.26200035, 0.19032693, 0.11941894, 0.05947329, 0.0184072 ,\n",
       "       0.        , 0.        , 0.        , 0.00133115, 0.00434544])"
      ]
     },
     "execution_count": 88,
     "metadata": {},
     "output_type": "execute_result"
    }
   ],
   "source": [
    "np.array(temp_input[1:])"
   ]
  },
  {
   "cell_type": "code",
   "execution_count": 89,
   "metadata": {},
   "outputs": [],
   "source": [
    "hour_new=np.arange(1,101)\n",
    "hour_pred=np.arange(101,125)"
   ]
  },
  {
   "cell_type": "code",
   "execution_count": 90,
   "metadata": {},
   "outputs": [],
   "source": [
    "import matplotlib.pyplot as plt"
   ]
  },
  {
   "cell_type": "code",
   "execution_count": 91,
   "metadata": {},
   "outputs": [
    {
     "data": {
      "text/plain": [
       "8760"
      ]
     },
     "execution_count": 91,
     "metadata": {},
     "output_type": "execute_result"
    }
   ],
   "source": [
    "len(df1)"
   ]
  },
  {
   "cell_type": "code",
   "execution_count": 92,
   "metadata": {},
   "outputs": [
    {
     "data": {
      "text/plain": [
       "[[0.0],\n",
       " [0.0],\n",
       " [0.0],\n",
       " [0.0],\n",
       " [0.0],\n",
       " [0.014552313834428787],\n",
       " [0.051779523491859436],\n",
       " [0.1103852242231369],\n",
       " [0.18413400650024414],\n",
       " [0.25969839096069336],\n",
       " [0.32134395837783813],\n",
       " [0.35554370284080505],\n",
       " [0.3550318777561188],\n",
       " [0.3210758566856384],\n",
       " [0.26200035214424133],\n",
       " [0.19032692909240723],\n",
       " [0.11941894143819809],\n",
       " [0.059473294764757156],\n",
       " [0.018407201394438744],\n",
       " [0.0],\n",
       " [0.0],\n",
       " [0.0],\n",
       " [0.0],\n",
       " [0.0]]"
      ]
     },
     "execution_count": 92,
     "metadata": {},
     "output_type": "execute_result"
    },
    {
     "data": {
      "image/png": "[encoded data removed]",
      "text/plain": [
       "<Figure size 432x288 with 1 Axes>"
      ]
     },
     "metadata": {
      "needs_background": "light"
     },
     "output_type": "display_data"
    }
   ],
   "source": [
    "plt.plot(hour_new,scaler.inverse_transform(df1[8660:]))\n",
    "plt.plot(hour_pred,scaler.inverse_transform(lst_output))\n",
    "plt.xlabel('Time [hour]')\n",
    "plt.ylabel('Solar Irradiance [W/m^2]')\n",
    "plt.legend([\"Real Data\",\"Forecasted Output\"])\n",
    "lst_output"
   ]
  },
  {
   "cell_type": "code",
   "execution_count": 113,
   "metadata": {},
   "outputs": [
    {
     "data": {
      "text/plain": [
       "(0, 500)"
      ]
     },
     "execution_count": 113,
     "metadata": {},
     "output_type": "execute_result"
    },
    {
     "data": {
      "image/png": "[encoded data removed]",
      "text/plain": [
       "<Figure size 432x288 with 1 Axes>"
      ]
     },
     "metadata": {
      "needs_background": "light"
     },
     "output_type": "display_data"
    }
   ],
   "source": [
    "fig, ax = plt.subplots()\n",
    "dim=np.arange(1,25,1)\n",
    "plt.plot(np.arange(1,25),scaler.inverse_transform(lst_output),'r-', linewidth=3)\n",
    "plt.xlabel('Time [hour]')\n",
    "plt.ylabel('Forecasted Solar Irradiance [W/m^2]')\n",
    "plt.xticks(dim)\n",
    "ax.set_xlim([1, 24])\n",
    "ax.set_ylim([0, 500])"
   ]
  },
  {
   "cell_type": "code",
   "execution_count": 94,
   "metadata": {},
   "outputs": [
    {
     "data": {
      "text/plain": [
       "[<matplotlib.lines.Line2D at 0x40d5bd25c8>]"
      ]
     },
     "execution_count": 94,
     "metadata": {},
     "output_type": "execute_result"
    },
    {
     "data": {
      "image/png": "[encoded data removed]",
      "text/plain": [
       "<Figure size 432x288 with 1 Axes>"
      ]
     },
     "metadata": {
      "needs_background": "light"
     },
     "output_type": "display_data"
    }
   ],
   "source": [
    "df3=df1.tolist()\n",
    "df3.extend(lst_output)\n",
    "plt.plot(df3[1200:])"
   ]
  },
  {
   "cell_type": "code",
   "execution_count": null,
   "metadata": {},
   "outputs": [],
   "source": []
  },
  {
   "cell_type": "code",
   "execution_count": null,
   "metadata": {},
   "outputs": [],
   "source": [
    "df3=scaler.inverse_transform(df3).tolist()"
   ]
  },
  {
   "cell_type": "code",
   "execution_count": null,
   "metadata": {},
   "outputs": [],
   "source": [
    "plt.plot(df3)"
   ]
  },
  {
   "cell_type": "code",
   "execution_count": null,
   "metadata": {},
   "outputs": [],
   "source": []
  },
  {
   "cell_type": "code",
   "execution_count": null,
   "metadata": {},
   "outputs": [],
   "source": []
  }
 ],
 "metadata": {
  "kernelspec": {
   "display_name": "Python 3",
   "language": "python",
   "name": "python3"
  },
  "language_info": {
   "codemirror_mode": {
    "name": "ipython",
    "version": 3
   },
   "file_extension": ".py",
   "mimetype": "text/x-python",
   "name": "python",
   "nbconvert_exporter": "python",
   "pygments_lexer": "ipython3",
   "version": "3.7.4"
  }
 },
 "nbformat": 4,
 "nbformat_minor": 2
}
