{
 "cells": [
  {
   "cell_type": "markdown",
   "metadata": {},
   "source": [
    "### Peyman Afzali - Deep Learning for Solar Radiation Forecasting\n",
    "### Shahid Bahonar University of Kerman"
   ]
  },
  {
   "cell_type": "code",
   "execution_count": 1,
   "metadata": {},
   "outputs": [
    {
     "name": "stdout",
     "output_type": "stream",
     "text": [
      "(8760, 1)\n"
     ]
    }
   ],
   "source": [
    "### Keras and Tensorflow \n",
    "import numpy\n",
    "import xlrd \n",
    "import csv\n",
    "\n",
    "filename = 'Wind_Speed_Data.csv'\n",
    "raw_data = open(filename, 'rt')\n",
    "reader = csv.reader(raw_data, delimiter=',', quoting=csv.QUOTE_NONE)\n",
    "x = list(reader)\n",
    "df1 = numpy.array(x).astype('float')\n",
    "print(df1.shape)"
   ]
  },
  {
   "cell_type": "code",
   "execution_count": 2,
   "metadata": {},
   "outputs": [],
   "source": [
    "import matplotlib.pyplot as plt\n",
    "plt.plot(df1);"
   ]
  },
  {
   "cell_type": "code",
   "execution_count": 3,
   "metadata": {},
   "outputs": [],
   "source": [
    "### LSTM are sensitive to the scale of the data. so we apply MinMax scaler "
   ]
  },
  {
   "cell_type": "code",
   "execution_count": 4,
   "metadata": {},
   "outputs": [],
   "source": [
    "import numpy as np"
   ]
  },
  {
   "cell_type": "code",
   "execution_count": 5,
   "metadata": {},
   "outputs": [
    {
     "data": {
      "text/plain": [
       "array([[0.        ],\n",
       "       [0.        ],\n",
       "       [0.        ],\n",
       "       ...,\n",
       "       [4.42813644],\n",
       "       [4.62791514],\n",
       "       [8.77953926]])"
      ]
     },
     "execution_count": 5,
     "metadata": {},
     "output_type": "execute_result"
    }
   ],
   "source": [
    "df1"
   ]
  },
  {
   "cell_type": "code",
   "execution_count": 6,
   "metadata": {},
   "outputs": [],
   "source": [
    "from sklearn.preprocessing import MinMaxScaler\n",
    "scaler=MinMaxScaler(feature_range=(0,1))\n",
    "df1=scaler.fit_transform(np.array(df1).reshape(-1,1))"
   ]
  },
  {
   "cell_type": "code",
   "execution_count": 7,
   "metadata": {},
   "outputs": [
    {
     "name": "stdout",
     "output_type": "stream",
     "text": [
      "[[0.        ]\n",
      " [0.        ]\n",
      " [0.        ]\n",
      " ...\n",
      " [0.09190875]\n",
      " [0.09605528]\n",
      " [0.18222485]]\n"
     ]
    }
   ],
   "source": [
    "print(df1)"
   ]
  },
  {
   "cell_type": "code",
   "execution_count": 8,
   "metadata": {},
   "outputs": [],
   "source": [
    "##splitting dataset into train and test split\n",
    "training_size=int(len(df1)*0.65)\n",
    "test_size=len(df1)-training_size\n",
    "train_data,test_data=df1[0:training_size,:],df1[training_size:len(df1),:1]"
   ]
  },
  {
   "cell_type": "code",
   "execution_count": 9,
   "metadata": {},
   "outputs": [
    {
     "data": {
      "text/plain": [
       "(5694, 3066)"
      ]
     },
     "execution_count": 9,
     "metadata": {},
     "output_type": "execute_result"
    }
   ],
   "source": [
    "training_size,test_size"
   ]
  },
  {
   "cell_type": "code",
   "execution_count": 10,
   "metadata": {},
   "outputs": [
    {
     "data": {
      "text/plain": [
       "array([[0.],\n",
       "       [0.],\n",
       "       [0.],\n",
       "       ...,\n",
       "       [0.],\n",
       "       [0.],\n",
       "       [0.]])"
      ]
     },
     "execution_count": 10,
     "metadata": {},
     "output_type": "execute_result"
    }
   ],
   "source": [
    "train_data"
   ]
  },
  {
   "cell_type": "code",
   "execution_count": 11,
   "metadata": {},
   "outputs": [],
   "source": [
    "import numpy\n",
    "# convert an array of values into a dataset matrix\n",
    "def create_dataset(dataset, time_step=1):\n",
    "\tdataX, dataY = [], []\n",
    "\tfor i in range(len(dataset)-time_step-1):\n",
    "\t\ta = dataset[i:(i+time_step), 0]   ###i=0, 0,1,2,3-----99   100 \n",
    "\t\tdataX.append(a)\n",
    "\t\tdataY.append(dataset[i + time_step, 0])\n",
    "\treturn numpy.array(dataX), numpy.array(dataY)"
   ]
  },
  {
   "cell_type": "code",
   "execution_count": 12,
   "metadata": {},
   "outputs": [],
   "source": [
    "# reshape into X=t,t+1,t+2,t+3 and Y=t+4\n",
    "time_step = 100\n",
    "X_train, y_train = create_dataset(train_data, time_step)\n",
    "X_test, ytest = create_dataset(test_data, time_step)"
   ]
  },
  {
   "cell_type": "code",
   "execution_count": 13,
   "metadata": {},
   "outputs": [
    {
     "name": "stdout",
     "output_type": "stream",
     "text": [
      "(5593, 100)\n",
      "(5593,)\n"
     ]
    },
    {
     "data": {
      "text/plain": [
       "(None, None)"
      ]
     },
     "execution_count": 13,
     "metadata": {},
     "output_type": "execute_result"
    }
   ],
   "source": [
    "print(X_train.shape), print(y_train.shape)"
   ]
  },
  {
   "cell_type": "code",
   "execution_count": 14,
   "metadata": {},
   "outputs": [
    {
     "name": "stdout",
     "output_type": "stream",
     "text": [
      "(2965, 100)\n",
      "(2965,)\n"
     ]
    },
    {
     "data": {
      "text/plain": [
       "(None, None)"
      ]
     },
     "execution_count": 14,
     "metadata": {},
     "output_type": "execute_result"
    }
   ],
   "source": [
    "print(X_test.shape), print(ytest.shape)"
   ]
  },
  {
   "cell_type": "code",
   "execution_count": 15,
   "metadata": {},
   "outputs": [],
   "source": [
    "# reshape input to be [samples, time steps, features] which is required for LSTM\n",
    "X_train =X_train.reshape(X_train.shape[0],X_train.shape[1] , 1)\n",
    "X_test = X_test.reshape(X_test.shape[0],X_test.shape[1] , 1)"
   ]
  },
  {
   "cell_type": "code",
   "execution_count": 16,
   "metadata": {},
   "outputs": [],
   "source": [
    "### Create the Stacked LSTM model\n",
    "from tensorflow.keras.models import Sequential\n",
    "from tensorflow.keras.layers import Dense\n",
    "from tensorflow.keras.layers import LSTM"
   ]
  },
  {
   "cell_type": "code",
   "execution_count": 17,
   "metadata": {},
   "outputs": [
    {
     "name": "stdout",
     "output_type": "stream",
     "text": [
      "WARNING:tensorflow:From C:\\ProgramData\\Anaconda3\\lib\\site-packages\\tensorflow\\python\\ops\\init_ops.py:1251: calling VarianceScaling.__init__ (from tensorflow.python.ops.init_ops) with dtype is deprecated and will be removed in a future version.\n",
      "Instructions for updating:\n",
      "Call initializer instance with the dtype argument instead of passing it to the constructor\n"
     ]
    }
   ],
   "source": [
    "model=Sequential()\n",
    "model.add(LSTM(50,return_sequences=True,input_shape=(100,1)))\n",
    "model.add(LSTM(50,return_sequences=True))\n",
    "model.add(LSTM(50))\n",
    "model.add(Dense(1))\n",
    "model.compile(loss='mean_squared_error',optimizer='adam')\n"
   ]
  },
  {
   "cell_type": "code",
   "execution_count": 18,
   "metadata": {},
   "outputs": [
    {
     "name": "stdout",
     "output_type": "stream",
     "text": [
      "Model: \"sequential\"\n",
      "_________________________________________________________________\n",
      "Layer (type)                 Output Shape              Param #   \n",
      "=================================================================\n",
      "lstm (LSTM)                  (None, 100, 50)           10400     \n",
      "_________________________________________________________________\n",
      "lstm_1 (LSTM)                (None, 100, 50)           20200     \n",
      "_________________________________________________________________\n",
      "lstm_2 (LSTM)                (None, 50)                20200     \n",
      "_________________________________________________________________\n",
      "dense (Dense)                (None, 1)                 51        \n",
      "=================================================================\n",
      "Total params: 50,851\n",
      "Trainable params: 50,851\n",
      "Non-trainable params: 0\n",
      "_________________________________________________________________\n"
     ]
    }
   ],
   "source": [
    "model.summary()"
   ]
  },
  {
   "cell_type": "code",
   "execution_count": 19,
   "metadata": {},
   "outputs": [
    {
     "name": "stdout",
     "output_type": "stream",
     "text": [
      "Model: \"sequential\"\n",
      "_________________________________________________________________\n",
      "Layer (type)                 Output Shape              Param #   \n",
      "=================================================================\n",
      "lstm (LSTM)                  (None, 100, 50)           10400     \n",
      "_________________________________________________________________\n",
      "lstm_1 (LSTM)                (None, 100, 50)           20200     \n",
      "_________________________________________________________________\n",
      "lstm_2 (LSTM)                (None, 50)                20200     \n",
      "_________________________________________________________________\n",
      "dense (Dense)                (None, 1)                 51        \n",
      "=================================================================\n",
      "Total params: 50,851\n",
      "Trainable params: 50,851\n",
      "Non-trainable params: 0\n",
      "_________________________________________________________________\n"
     ]
    }
   ],
   "source": [
    "model.summary()"
   ]
  },
  {
   "cell_type": "code",
   "execution_count": null,
   "metadata": {},
   "outputs": [],
   "source": []
  },
  {
   "cell_type": "code",
   "execution_count": 62,
   "metadata": {},
   "outputs": [
    {
     "name": "stdout",
     "output_type": "stream",
     "text": [
      "Train on 5593 samples, validate on 2965 samples\n",
      "Epoch 1/5\n",
      "5593/5593 [==============================] - 23s 4ms/sample - loss: 0.0053 - val_loss: 0.0064\n",
      "Epoch 2/5\n",
      "5593/5593 [==============================] - 23s 4ms/sample - loss: 0.0053 - val_loss: 0.0062\n",
      "Epoch 3/5\n",
      "5593/5593 [==============================] - 23s 4ms/sample - loss: 0.0053 - val_loss: 0.0061\n",
      "Epoch 4/5\n",
      "5593/5593 [==============================] - 23s 4ms/sample - loss: 0.0053 - val_loss: 0.0061\n",
      "Epoch 5/5\n",
      "5593/5593 [==============================] - 25s 4ms/sample - loss: 0.0053 - val_loss: 0.0061\n"
     ]
    },
    {
     "data": {
      "text/plain": [
       "<tensorflow.python.keras.callbacks.History at 0x5ddc219bc8>"
      ]
     },
     "execution_count": 62,
     "metadata": {},
     "output_type": "execute_result"
    }
   ],
   "source": [
    "model.fit(X_train,y_train,validation_data=(X_test,ytest),epochs=5,batch_size=64,verbose=1)"
   ]
  },
  {
   "cell_type": "code",
   "execution_count": 63,
   "metadata": {},
   "outputs": [],
   "source": [
    "import tensorflow as tf"
   ]
  },
  {
   "cell_type": "code",
   "execution_count": 64,
   "metadata": {},
   "outputs": [
    {
     "data": {
      "text/plain": [
       "'1.14.0'"
      ]
     },
     "execution_count": 64,
     "metadata": {},
     "output_type": "execute_result"
    }
   ],
   "source": [
    "tf.__version__"
   ]
  },
  {
   "cell_type": "code",
   "execution_count": 65,
   "metadata": {},
   "outputs": [],
   "source": [
    "### Lets Do the prediction and check performance metrics\n",
    "train_predict=model.predict(X_train)\n",
    "test_predict=model.predict(X_test)"
   ]
  },
  {
   "cell_type": "code",
   "execution_count": 66,
   "metadata": {},
   "outputs": [],
   "source": [
    "##Transformback to original form\n",
    "train_predict=scaler.inverse_transform(train_predict)\n",
    "test_predict=scaler.inverse_transform(test_predict)"
   ]
  },
  {
   "cell_type": "code",
   "execution_count": 67,
   "metadata": {},
   "outputs": [
    {
     "data": {
      "text/plain": [
       "8.152128926617673"
      ]
     },
     "execution_count": 67,
     "metadata": {},
     "output_type": "execute_result"
    }
   ],
   "source": [
    "### Calculate RMSE performance metrics\n",
    "import math\n",
    "from sklearn.metrics import mean_squared_error\n",
    "math.sqrt(mean_squared_error(y_train,train_predict))"
   ]
  },
  {
   "cell_type": "code",
   "execution_count": 68,
   "metadata": {},
   "outputs": [
    {
     "data": {
      "text/plain": [
       "8.429491814547502"
      ]
     },
     "execution_count": 68,
     "metadata": {},
     "output_type": "execute_result"
    }
   ],
   "source": [
    "### Test Data RMSE\n",
    "math.sqrt(mean_squared_error(ytest,test_predict))"
   ]
  },
  {
   "cell_type": "code",
   "execution_count": 99,
   "metadata": {},
   "outputs": [
    {
     "data": {
      "image/png": "[encoded data removed]",
      "text/plain": [
       "<Figure size 432x288 with 1 Axes>"
      ]
     },
     "metadata": {
      "needs_background": "light"
     },
     "output_type": "display_data"
    }
   ],
   "source": [
    "### Plotting \n",
    "# shift train predictions for plotting\n",
    "look_back=100\n",
    "trainPredictPlot = numpy.empty_like(df1)\n",
    "trainPredictPlot[:, :] = np.nan\n",
    "trainPredictPlot[look_back:len(train_predict)+look_back, :] = train_predict\n",
    "# shift test predictions for plotting\n",
    "testPredictPlot = numpy.empty_like(df1)\n",
    "testPredictPlot[:, :] = numpy.nan\n",
    "testPredictPlot[len(train_predict)+(look_back*2)+1:len(df1)-1, :] = test_predict\n",
    "# plot baseline and predictions\n",
    "fig, ax = plt.subplots()\n",
    "plt.plot(np.arange(1,8760),scaler.inverse_transform(df1[1:8760]))\n",
    "#plt.plot(scaler.inverse_transform(df1))\n",
    "plt.plot(trainPredictPlot)\n",
    "plt.plot(testPredictPlot)\n",
    "plt.xlabel('Time [hour]')\n",
    "plt.ylabel('Wind Speed [m/s]')\n",
    "plt.legend(['Real Data','Learned Train Data','Forecasted Output'],loc=0)\n",
    "ax.set_xlim([1, 8760])\n",
    "ax.set_ylim([0, 50])\n",
    "plt.show()"
   ]
  },
  {
   "cell_type": "code",
   "execution_count": 70,
   "metadata": {},
   "outputs": [
    {
     "data": {
      "text/plain": [
       "3066"
      ]
     },
     "execution_count": 70,
     "metadata": {},
     "output_type": "execute_result"
    }
   ],
   "source": [
    "len(test_data)"
   ]
  },
  {
   "cell_type": "code",
   "execution_count": 71,
   "metadata": {},
   "outputs": [
    {
     "data": {
      "text/plain": [
       "(1, 100)"
      ]
     },
     "execution_count": 71,
     "metadata": {},
     "output_type": "execute_result"
    }
   ],
   "source": [
    "x_input=test_data[2966:].reshape(1,-1)\n",
    "x_input.shape\n"
   ]
  },
  {
   "cell_type": "code",
   "execution_count": 72,
   "metadata": {},
   "outputs": [],
   "source": [
    "temp_input=list(x_input)\n",
    "temp_input=temp_input[0].tolist()\n",
    "#temp_input[temp_input<0] = 0"
   ]
  },
  {
   "cell_type": "code",
   "execution_count": 73,
   "metadata": {},
   "outputs": [
    {
     "data": {
      "text/plain": [
       "[0.1478767748782401,\n",
       " 0.12284838789371397,\n",
       " 0.11144135270746718,\n",
       " 0.15655082714396393,\n",
       " 0.07845627428411836,\n",
       " 0.13865990310436857,\n",
       " 0.09486690712844771,\n",
       " 0.17734532573062375,\n",
       " 0.10334365220268546,\n",
       " 0.29651415593038816,\n",
       " 0.2663256889634853,\n",
       " 0.29828037476688846,\n",
       " 0.2585796931961946,\n",
       " 0.21841677175382904,\n",
       " 0.21230025487840495,\n",
       " 0.11247438789244621,\n",
       " 0.3445428383019537,\n",
       " 0.12724304494361524,\n",
       " 0.177495185598234,\n",
       " 0.18269211323362816,\n",
       " 0.2458198156062628,\n",
       " 0.2349257956974753,\n",
       " 0.2925274421125859,\n",
       " 0.3297174384566855,\n",
       " 0.26102080223715646,\n",
       " 0.17963922292773887,\n",
       " 0.12849008543028484,\n",
       " 0.20094540303520894,\n",
       " 0.15701956412908258,\n",
       " 0.12438562317115857,\n",
       " 0.15755993849972955,\n",
       " 0.2026645511587018,\n",
       " 0.17409319634091444,\n",
       " 0.1711853775377669,\n",
       " 0.1690293515707844,\n",
       " 0.13146879315026286,\n",
       " 0.13460851506135396,\n",
       " 0.1224804631726628,\n",
       " 0.28202596114851397,\n",
       " 0.24157568447207117,\n",
       " 0.3140607014087403,\n",
       " 0.21905192053487513,\n",
       " 0.39896767521789717,\n",
       " 0.3512005127201324,\n",
       " 0.39127327109221705,\n",
       " 0.3522799396600189,\n",
       " 0.5951015346616211,\n",
       " 0.3619932322962623,\n",
       " 0.09627155082634072,\n",
       " 0.08700431147401426,\n",
       " 0.050269143789530964,\n",
       " 0.07133206173204105,\n",
       " 0.08855700070705998,\n",
       " 0.1489864300240263,\n",
       " 0.06165010612960686,\n",
       " 0.14871325175554348,\n",
       " 0.0617753866845189,\n",
       " 0.0,\n",
       " 0.06439800587083644,\n",
       " 0.23464221342143837,\n",
       " 0.04919215158857562,\n",
       " 0.1135666502579176,\n",
       " 0.048014492558237525,\n",
       " 0.11105376518383302,\n",
       " 0.07882779908958501,\n",
       " 0.10604249473051655,\n",
       " 0.06601045429262892,\n",
       " 0.19163769591626864,\n",
       " 0.02086790800467602,\n",
       " 0.11189064335044628,\n",
       " 0.06379202271131947,\n",
       " 0.13469670180150162,\n",
       " 0.10254571315069098,\n",
       " 0.0602175601222327,\n",
       " 0.11342614347815377,\n",
       " 0.09167743213002141,\n",
       " 0.10057417200489967,\n",
       " 0.07920167021500799,\n",
       " 0.16129559442175379,\n",
       " 0.027166466743131418,\n",
       " 0.13697575693968186,\n",
       " 0.05802321847742675,\n",
       " 0.12101141050648198,\n",
       " 0.22494813634550798,\n",
       " 0.2974613047629713,\n",
       " 0.24637190887424715,\n",
       " 0.12901713134616175,\n",
       " 0.18676135501869767,\n",
       " 0.16825485923838468,\n",
       " 0.21994167984874927,\n",
       " 0.17374683507756025,\n",
       " 0.07040017164837858,\n",
       " 0.03190066378154333,\n",
       " 0.07309368066477423,\n",
       " 0.039324104949173704,\n",
       " 0.15617999736145324,\n",
       " 0.16900321710115426,\n",
       " 0.09190875231615526,\n",
       " 0.09605528465561389,\n",
       " 0.1822248501056469]"
      ]
     },
     "execution_count": 73,
     "metadata": {},
     "output_type": "execute_result"
    }
   ],
   "source": [
    "temp_input"
   ]
  },
  {
   "cell_type": "code",
   "execution_count": 74,
   "metadata": {},
   "outputs": [
    {
     "name": "stdout",
     "output_type": "stream",
     "text": [
      "[0.14736189]\n",
      "101\n",
      "1 hour input [0.12284839 0.11144135 0.15655083 0.07845627 0.1386599  0.09486691\n",
      " 0.17734533 0.10334365 0.29651416 0.26632569 0.29828037 0.25857969\n",
      " 0.21841677 0.21230025 0.11247439 0.34454284 0.12724304 0.17749519\n",
      " 0.18269211 0.24581982 0.2349258  0.29252744 0.32971744 0.2610208\n",
      " 0.17963922 0.12849009 0.2009454  0.15701956 0.12438562 0.15755994\n",
      " 0.20266455 0.1740932  0.17118538 0.16902935 0.13146879 0.13460852\n",
      " 0.12248046 0.28202596 0.24157568 0.3140607  0.21905192 0.39896768\n",
      " 0.35120051 0.39127327 0.35227994 0.59510153 0.36199323 0.09627155\n",
      " 0.08700431 0.05026914 0.07133206 0.088557   0.14898643 0.06165011\n",
      " 0.14871325 0.06177539 0.         0.06439801 0.23464221 0.04919215\n",
      " 0.11356665 0.04801449 0.11105377 0.0788278  0.10604249 0.06601045\n",
      " 0.1916377  0.02086791 0.11189064 0.06379202 0.1346967  0.10254571\n",
      " 0.06021756 0.11342614 0.09167743 0.10057417 0.07920167 0.16129559\n",
      " 0.02716647 0.13697576 0.05802322 0.12101141 0.22494814 0.2974613\n",
      " 0.24637191 0.12901713 0.18676136 0.16825486 0.21994168 0.17374684\n",
      " 0.07040017 0.03190066 0.07309368 0.0393241  0.15618    0.16900322\n",
      " 0.09190875 0.09605528 0.18222485 0.14736189]\n",
      "1 hour output [[0.14804468]]\n",
      "2 hour input [0.11144135 0.15655083 0.07845627 0.1386599  0.09486691 0.17734533\n",
      " 0.10334365 0.29651416 0.26632569 0.29828037 0.25857969 0.21841677\n",
      " 0.21230025 0.11247439 0.34454284 0.12724304 0.17749519 0.18269211\n",
      " 0.24581982 0.2349258  0.29252744 0.32971744 0.2610208  0.17963922\n",
      " 0.12849009 0.2009454  0.15701956 0.12438562 0.15755994 0.20266455\n",
      " 0.1740932  0.17118538 0.16902935 0.13146879 0.13460852 0.12248046\n",
      " 0.28202596 0.24157568 0.3140607  0.21905192 0.39896768 0.35120051\n",
      " 0.39127327 0.35227994 0.59510153 0.36199323 0.09627155 0.08700431\n",
      " 0.05026914 0.07133206 0.088557   0.14898643 0.06165011 0.14871325\n",
      " 0.06177539 0.         0.06439801 0.23464221 0.04919215 0.11356665\n",
      " 0.04801449 0.11105377 0.0788278  0.10604249 0.06601045 0.1916377\n",
      " 0.02086791 0.11189064 0.06379202 0.1346967  0.10254571 0.06021756\n",
      " 0.11342614 0.09167743 0.10057417 0.07920167 0.16129559 0.02716647\n",
      " 0.13697576 0.05802322 0.12101141 0.22494814 0.2974613  0.24637191\n",
      " 0.12901713 0.18676136 0.16825486 0.21994168 0.17374684 0.07040017\n",
      " 0.03190066 0.07309368 0.0393241  0.15618    0.16900322 0.09190875\n",
      " 0.09605528 0.18222485 0.14736189 0.14804468]\n",
      "2 hour output [[0.14901938]]\n",
      "3 hour input [0.15655083 0.07845627 0.1386599  0.09486691 0.17734533 0.10334365\n",
      " 0.29651416 0.26632569 0.29828037 0.25857969 0.21841677 0.21230025\n",
      " 0.11247439 0.34454284 0.12724304 0.17749519 0.18269211 0.24581982\n",
      " 0.2349258  0.29252744 0.32971744 0.2610208  0.17963922 0.12849009\n",
      " 0.2009454  0.15701956 0.12438562 0.15755994 0.20266455 0.1740932\n",
      " 0.17118538 0.16902935 0.13146879 0.13460852 0.12248046 0.28202596\n",
      " 0.24157568 0.3140607  0.21905192 0.39896768 0.35120051 0.39127327\n",
      " 0.35227994 0.59510153 0.36199323 0.09627155 0.08700431 0.05026914\n",
      " 0.07133206 0.088557   0.14898643 0.06165011 0.14871325 0.06177539\n",
      " 0.         0.06439801 0.23464221 0.04919215 0.11356665 0.04801449\n",
      " 0.11105377 0.0788278  0.10604249 0.06601045 0.1916377  0.02086791\n",
      " 0.11189064 0.06379202 0.1346967  0.10254571 0.06021756 0.11342614\n",
      " 0.09167743 0.10057417 0.07920167 0.16129559 0.02716647 0.13697576\n",
      " 0.05802322 0.12101141 0.22494814 0.2974613  0.24637191 0.12901713\n",
      " 0.18676136 0.16825486 0.21994168 0.17374684 0.07040017 0.03190066\n",
      " 0.07309368 0.0393241  0.15618    0.16900322 0.09190875 0.09605528\n",
      " 0.18222485 0.14736189 0.14804468 0.14901938]\n",
      "3 hour output [[0.15162389]]\n",
      "4 hour input [0.07845627 0.1386599  0.09486691 0.17734533 0.10334365 0.29651416\n",
      " 0.26632569 0.29828037 0.25857969 0.21841677 0.21230025 0.11247439\n",
      " 0.34454284 0.12724304 0.17749519 0.18269211 0.24581982 0.2349258\n",
      " 0.29252744 0.32971744 0.2610208  0.17963922 0.12849009 0.2009454\n",
      " 0.15701956 0.12438562 0.15755994 0.20266455 0.1740932  0.17118538\n",
      " 0.16902935 0.13146879 0.13460852 0.12248046 0.28202596 0.24157568\n",
      " 0.3140607  0.21905192 0.39896768 0.35120051 0.39127327 0.35227994\n",
      " 0.59510153 0.36199323 0.09627155 0.08700431 0.05026914 0.07133206\n",
      " 0.088557   0.14898643 0.06165011 0.14871325 0.06177539 0.\n",
      " 0.06439801 0.23464221 0.04919215 0.11356665 0.04801449 0.11105377\n",
      " 0.0788278  0.10604249 0.06601045 0.1916377  0.02086791 0.11189064\n",
      " 0.06379202 0.1346967  0.10254571 0.06021756 0.11342614 0.09167743\n",
      " 0.10057417 0.07920167 0.16129559 0.02716647 0.13697576 0.05802322\n",
      " 0.12101141 0.22494814 0.2974613  0.24637191 0.12901713 0.18676136\n",
      " 0.16825486 0.21994168 0.17374684 0.07040017 0.03190066 0.07309368\n",
      " 0.0393241  0.15618    0.16900322 0.09190875 0.09605528 0.18222485\n",
      " 0.14736189 0.14804468 0.14901938 0.15162389]\n",
      "4 hour output [[0.1555946]]\n",
      "5 hour input [0.1386599  0.09486691 0.17734533 0.10334365 0.29651416 0.26632569\n",
      " 0.29828037 0.25857969 0.21841677 0.21230025 0.11247439 0.34454284\n",
      " 0.12724304 0.17749519 0.18269211 0.24581982 0.2349258  0.29252744\n",
      " 0.32971744 0.2610208  0.17963922 0.12849009 0.2009454  0.15701956\n",
      " 0.12438562 0.15755994 0.20266455 0.1740932  0.17118538 0.16902935\n",
      " 0.13146879 0.13460852 0.12248046 0.28202596 0.24157568 0.3140607\n",
      " 0.21905192 0.39896768 0.35120051 0.39127327 0.35227994 0.59510153\n",
      " 0.36199323 0.09627155 0.08700431 0.05026914 0.07133206 0.088557\n",
      " 0.14898643 0.06165011 0.14871325 0.06177539 0.         0.06439801\n",
      " 0.23464221 0.04919215 0.11356665 0.04801449 0.11105377 0.0788278\n",
      " 0.10604249 0.06601045 0.1916377  0.02086791 0.11189064 0.06379202\n",
      " 0.1346967  0.10254571 0.06021756 0.11342614 0.09167743 0.10057417\n",
      " 0.07920167 0.16129559 0.02716647 0.13697576 0.05802322 0.12101141\n",
      " 0.22494814 0.2974613  0.24637191 0.12901713 0.18676136 0.16825486\n",
      " 0.21994168 0.17374684 0.07040017 0.03190066 0.07309368 0.0393241\n",
      " 0.15618    0.16900322 0.09190875 0.09605528 0.18222485 0.14736189\n",
      " 0.14804468 0.14901938 0.15162389 0.1555946 ]\n",
      "5 hour output [[0.16073069]]\n",
      "6 hour input [0.09486691 0.17734533 0.10334365 0.29651416 0.26632569 0.29828037\n",
      " 0.25857969 0.21841677 0.21230025 0.11247439 0.34454284 0.12724304\n",
      " 0.17749519 0.18269211 0.24581982 0.2349258  0.29252744 0.32971744\n",
      " 0.2610208  0.17963922 0.12849009 0.2009454  0.15701956 0.12438562\n",
      " 0.15755994 0.20266455 0.1740932  0.17118538 0.16902935 0.13146879\n",
      " 0.13460852 0.12248046 0.28202596 0.24157568 0.3140607  0.21905192\n",
      " 0.39896768 0.35120051 0.39127327 0.35227994 0.59510153 0.36199323\n",
      " 0.09627155 0.08700431 0.05026914 0.07133206 0.088557   0.14898643\n",
      " 0.06165011 0.14871325 0.06177539 0.         0.06439801 0.23464221\n",
      " 0.04919215 0.11356665 0.04801449 0.11105377 0.0788278  0.10604249\n",
      " 0.06601045 0.1916377  0.02086791 0.11189064 0.06379202 0.1346967\n",
      " 0.10254571 0.06021756 0.11342614 0.09167743 0.10057417 0.07920167\n",
      " 0.16129559 0.02716647 0.13697576 0.05802322 0.12101141 0.22494814\n",
      " 0.2974613  0.24637191 0.12901713 0.18676136 0.16825486 0.21994168\n",
      " 0.17374684 0.07040017 0.03190066 0.07309368 0.0393241  0.15618\n",
      " 0.16900322 0.09190875 0.09605528 0.18222485 0.14736189 0.14804468\n",
      " 0.14901938 0.15162389 0.1555946  0.16073069]\n",
      "6 hour output [[0.16650556]]\n",
      "7 hour input [0.17734533 0.10334365 0.29651416 0.26632569 0.29828037 0.25857969\n",
      " 0.21841677 0.21230025 0.11247439 0.34454284 0.12724304 0.17749519\n",
      " 0.18269211 0.24581982 0.2349258  0.29252744 0.32971744 0.2610208\n",
      " 0.17963922 0.12849009 0.2009454  0.15701956 0.12438562 0.15755994\n",
      " 0.20266455 0.1740932  0.17118538 0.16902935 0.13146879 0.13460852\n",
      " 0.12248046 0.28202596 0.24157568 0.3140607  0.21905192 0.39896768\n",
      " 0.35120051 0.39127327 0.35227994 0.59510153 0.36199323 0.09627155\n",
      " 0.08700431 0.05026914 0.07133206 0.088557   0.14898643 0.06165011\n",
      " 0.14871325 0.06177539 0.         0.06439801 0.23464221 0.04919215\n",
      " 0.11356665 0.04801449 0.11105377 0.0788278  0.10604249 0.06601045\n",
      " 0.1916377  0.02086791 0.11189064 0.06379202 0.1346967  0.10254571\n",
      " 0.06021756 0.11342614 0.09167743 0.10057417 0.07920167 0.16129559\n",
      " 0.02716647 0.13697576 0.05802322 0.12101141 0.22494814 0.2974613\n",
      " 0.24637191 0.12901713 0.18676136 0.16825486 0.21994168 0.17374684\n",
      " 0.07040017 0.03190066 0.07309368 0.0393241  0.15618    0.16900322\n",
      " 0.09190875 0.09605528 0.18222485 0.14736189 0.14804468 0.14901938\n",
      " 0.15162389 0.1555946  0.16073069 0.16650556]\n",
      "7 hour output [[0.17258732]]\n",
      "8 hour input [0.10334365 0.29651416 0.26632569 0.29828037 0.25857969 0.21841677\n",
      " 0.21230025 0.11247439 0.34454284 0.12724304 0.17749519 0.18269211\n",
      " 0.24581982 0.2349258  0.29252744 0.32971744 0.2610208  0.17963922\n",
      " 0.12849009 0.2009454  0.15701956 0.12438562 0.15755994 0.20266455\n",
      " 0.1740932  0.17118538 0.16902935 0.13146879 0.13460852 0.12248046\n",
      " 0.28202596 0.24157568 0.3140607  0.21905192 0.39896768 0.35120051\n",
      " 0.39127327 0.35227994 0.59510153 0.36199323 0.09627155 0.08700431\n",
      " 0.05026914 0.07133206 0.088557   0.14898643 0.06165011 0.14871325\n",
      " 0.06177539 0.         0.06439801 0.23464221 0.04919215 0.11356665\n",
      " 0.04801449 0.11105377 0.0788278  0.10604249 0.06601045 0.1916377\n",
      " 0.02086791 0.11189064 0.06379202 0.1346967  0.10254571 0.06021756\n",
      " 0.11342614 0.09167743 0.10057417 0.07920167 0.16129559 0.02716647\n",
      " 0.13697576 0.05802322 0.12101141 0.22494814 0.2974613  0.24637191\n",
      " 0.12901713 0.18676136 0.16825486 0.21994168 0.17374684 0.07040017\n",
      " 0.03190066 0.07309368 0.0393241  0.15618    0.16900322 0.09190875\n",
      " 0.09605528 0.18222485 0.14736189 0.14804468 0.14901938 0.15162389\n",
      " 0.1555946  0.16073069 0.16650556 0.17258732]\n",
      "8 hour output [[0.17837249]]\n",
      "9 hour input [0.29651416 0.26632569 0.29828037 0.25857969 0.21841677 0.21230025\n",
      " 0.11247439 0.34454284 0.12724304 0.17749519 0.18269211 0.24581982\n",
      " 0.2349258  0.29252744 0.32971744 0.2610208  0.17963922 0.12849009\n",
      " 0.2009454  0.15701956 0.12438562 0.15755994 0.20266455 0.1740932\n",
      " 0.17118538 0.16902935 0.13146879 0.13460852 0.12248046 0.28202596\n",
      " 0.24157568 0.3140607  0.21905192 0.39896768 0.35120051 0.39127327\n",
      " 0.35227994 0.59510153 0.36199323 0.09627155 0.08700431 0.05026914\n",
      " 0.07133206 0.088557   0.14898643 0.06165011 0.14871325 0.06177539\n",
      " 0.         0.06439801 0.23464221 0.04919215 0.11356665 0.04801449\n",
      " 0.11105377 0.0788278  0.10604249 0.06601045 0.1916377  0.02086791\n",
      " 0.11189064 0.06379202 0.1346967  0.10254571 0.06021756 0.11342614\n",
      " 0.09167743 0.10057417 0.07920167 0.16129559 0.02716647 0.13697576\n",
      " 0.05802322 0.12101141 0.22494814 0.2974613  0.24637191 0.12901713\n",
      " 0.18676136 0.16825486 0.21994168 0.17374684 0.07040017 0.03190066\n",
      " 0.07309368 0.0393241  0.15618    0.16900322 0.09190875 0.09605528\n",
      " 0.18222485 0.14736189 0.14804468 0.14901938 0.15162389 0.1555946\n",
      " 0.16073069 0.16650556 0.17258732 0.17837249]\n",
      "9 hour output [[0.18355747]]\n",
      "10 hour input [0.26632569 0.29828037 0.25857969 0.21841677 0.21230025 0.11247439\n",
      " 0.34454284 0.12724304 0.17749519 0.18269211 0.24581982 0.2349258\n",
      " 0.29252744 0.32971744 0.2610208  0.17963922 0.12849009 0.2009454\n",
      " 0.15701956 0.12438562 0.15755994 0.20266455 0.1740932  0.17118538\n",
      " 0.16902935 0.13146879 0.13460852 0.12248046 0.28202596 0.24157568\n",
      " 0.3140607  0.21905192 0.39896768 0.35120051 0.39127327 0.35227994\n",
      " 0.59510153 0.36199323 0.09627155 0.08700431 0.05026914 0.07133206\n",
      " 0.088557   0.14898643 0.06165011 0.14871325 0.06177539 0.\n",
      " 0.06439801 0.23464221 0.04919215 0.11356665 0.04801449 0.11105377\n",
      " 0.0788278  0.10604249 0.06601045 0.1916377  0.02086791 0.11189064\n",
      " 0.06379202 0.1346967  0.10254571 0.06021756 0.11342614 0.09167743\n",
      " 0.10057417 0.07920167 0.16129559 0.02716647 0.13697576 0.05802322\n",
      " 0.12101141 0.22494814 0.2974613  0.24637191 0.12901713 0.18676136\n",
      " 0.16825486 0.21994168 0.17374684 0.07040017 0.03190066 0.07309368\n",
      " 0.0393241  0.15618    0.16900322 0.09190875 0.09605528 0.18222485\n",
      " 0.14736189 0.14804468 0.14901938 0.15162389 0.1555946  0.16073069\n",
      " 0.16650556 0.17258732 0.17837249 0.18355747]\n"
     ]
    },
    {
     "name": "stdout",
     "output_type": "stream",
     "text": [
      "10 hour output [[0.18767217]]\n",
      "11 hour input [0.29828037 0.25857969 0.21841677 0.21230025 0.11247439 0.34454284\n",
      " 0.12724304 0.17749519 0.18269211 0.24581982 0.2349258  0.29252744\n",
      " 0.32971744 0.2610208  0.17963922 0.12849009 0.2009454  0.15701956\n",
      " 0.12438562 0.15755994 0.20266455 0.1740932  0.17118538 0.16902935\n",
      " 0.13146879 0.13460852 0.12248046 0.28202596 0.24157568 0.3140607\n",
      " 0.21905192 0.39896768 0.35120051 0.39127327 0.35227994 0.59510153\n",
      " 0.36199323 0.09627155 0.08700431 0.05026914 0.07133206 0.088557\n",
      " 0.14898643 0.06165011 0.14871325 0.06177539 0.         0.06439801\n",
      " 0.23464221 0.04919215 0.11356665 0.04801449 0.11105377 0.0788278\n",
      " 0.10604249 0.06601045 0.1916377  0.02086791 0.11189064 0.06379202\n",
      " 0.1346967  0.10254571 0.06021756 0.11342614 0.09167743 0.10057417\n",
      " 0.07920167 0.16129559 0.02716647 0.13697576 0.05802322 0.12101141\n",
      " 0.22494814 0.2974613  0.24637191 0.12901713 0.18676136 0.16825486\n",
      " 0.21994168 0.17374684 0.07040017 0.03190066 0.07309368 0.0393241\n",
      " 0.15618    0.16900322 0.09190875 0.09605528 0.18222485 0.14736189\n",
      " 0.14804468 0.14901938 0.15162389 0.1555946  0.16073069 0.16650556\n",
      " 0.17258732 0.17837249 0.18355747 0.18767217]\n",
      "11 hour output [[0.19068418]]\n",
      "12 hour input [0.25857969 0.21841677 0.21230025 0.11247439 0.34454284 0.12724304\n",
      " 0.17749519 0.18269211 0.24581982 0.2349258  0.29252744 0.32971744\n",
      " 0.2610208  0.17963922 0.12849009 0.2009454  0.15701956 0.12438562\n",
      " 0.15755994 0.20266455 0.1740932  0.17118538 0.16902935 0.13146879\n",
      " 0.13460852 0.12248046 0.28202596 0.24157568 0.3140607  0.21905192\n",
      " 0.39896768 0.35120051 0.39127327 0.35227994 0.59510153 0.36199323\n",
      " 0.09627155 0.08700431 0.05026914 0.07133206 0.088557   0.14898643\n",
      " 0.06165011 0.14871325 0.06177539 0.         0.06439801 0.23464221\n",
      " 0.04919215 0.11356665 0.04801449 0.11105377 0.0788278  0.10604249\n",
      " 0.06601045 0.1916377  0.02086791 0.11189064 0.06379202 0.1346967\n",
      " 0.10254571 0.06021756 0.11342614 0.09167743 0.10057417 0.07920167\n",
      " 0.16129559 0.02716647 0.13697576 0.05802322 0.12101141 0.22494814\n",
      " 0.2974613  0.24637191 0.12901713 0.18676136 0.16825486 0.21994168\n",
      " 0.17374684 0.07040017 0.03190066 0.07309368 0.0393241  0.15618\n",
      " 0.16900322 0.09190875 0.09605528 0.18222485 0.14736189 0.14804468\n",
      " 0.14901938 0.15162389 0.1555946  0.16073069 0.16650556 0.17258732\n",
      " 0.17837249 0.18355747 0.18767217 0.19068418]\n",
      "12 hour output [[0.19252677]]\n",
      "13 hour input [0.21841677 0.21230025 0.11247439 0.34454284 0.12724304 0.17749519\n",
      " 0.18269211 0.24581982 0.2349258  0.29252744 0.32971744 0.2610208\n",
      " 0.17963922 0.12849009 0.2009454  0.15701956 0.12438562 0.15755994\n",
      " 0.20266455 0.1740932  0.17118538 0.16902935 0.13146879 0.13460852\n",
      " 0.12248046 0.28202596 0.24157568 0.3140607  0.21905192 0.39896768\n",
      " 0.35120051 0.39127327 0.35227994 0.59510153 0.36199323 0.09627155\n",
      " 0.08700431 0.05026914 0.07133206 0.088557   0.14898643 0.06165011\n",
      " 0.14871325 0.06177539 0.         0.06439801 0.23464221 0.04919215\n",
      " 0.11356665 0.04801449 0.11105377 0.0788278  0.10604249 0.06601045\n",
      " 0.1916377  0.02086791 0.11189064 0.06379202 0.1346967  0.10254571\n",
      " 0.06021756 0.11342614 0.09167743 0.10057417 0.07920167 0.16129559\n",
      " 0.02716647 0.13697576 0.05802322 0.12101141 0.22494814 0.2974613\n",
      " 0.24637191 0.12901713 0.18676136 0.16825486 0.21994168 0.17374684\n",
      " 0.07040017 0.03190066 0.07309368 0.0393241  0.15618    0.16900322\n",
      " 0.09190875 0.09605528 0.18222485 0.14736189 0.14804468 0.14901938\n",
      " 0.15162389 0.1555946  0.16073069 0.16650556 0.17258732 0.17837249\n",
      " 0.18355747 0.18767217 0.19068418 0.19252677]\n",
      "13 hour output [[0.19315651]]\n",
      "14 hour input [0.21230025 0.11247439 0.34454284 0.12724304 0.17749519 0.18269211\n",
      " 0.24581982 0.2349258  0.29252744 0.32971744 0.2610208  0.17963922\n",
      " 0.12849009 0.2009454  0.15701956 0.12438562 0.15755994 0.20266455\n",
      " 0.1740932  0.17118538 0.16902935 0.13146879 0.13460852 0.12248046\n",
      " 0.28202596 0.24157568 0.3140607  0.21905192 0.39896768 0.35120051\n",
      " 0.39127327 0.35227994 0.59510153 0.36199323 0.09627155 0.08700431\n",
      " 0.05026914 0.07133206 0.088557   0.14898643 0.06165011 0.14871325\n",
      " 0.06177539 0.         0.06439801 0.23464221 0.04919215 0.11356665\n",
      " 0.04801449 0.11105377 0.0788278  0.10604249 0.06601045 0.1916377\n",
      " 0.02086791 0.11189064 0.06379202 0.1346967  0.10254571 0.06021756\n",
      " 0.11342614 0.09167743 0.10057417 0.07920167 0.16129559 0.02716647\n",
      " 0.13697576 0.05802322 0.12101141 0.22494814 0.2974613  0.24637191\n",
      " 0.12901713 0.18676136 0.16825486 0.21994168 0.17374684 0.07040017\n",
      " 0.03190066 0.07309368 0.0393241  0.15618    0.16900322 0.09190875\n",
      " 0.09605528 0.18222485 0.14736189 0.14804468 0.14901938 0.15162389\n",
      " 0.1555946  0.16073069 0.16650556 0.17258732 0.17837249 0.18355747\n",
      " 0.18767217 0.19068418 0.19252677 0.19315651]\n",
      "14 hour output [[0.1925269]]\n",
      "15 hour input [0.11247439 0.34454284 0.12724304 0.17749519 0.18269211 0.24581982\n",
      " 0.2349258  0.29252744 0.32971744 0.2610208  0.17963922 0.12849009\n",
      " 0.2009454  0.15701956 0.12438562 0.15755994 0.20266455 0.1740932\n",
      " 0.17118538 0.16902935 0.13146879 0.13460852 0.12248046 0.28202596\n",
      " 0.24157568 0.3140607  0.21905192 0.39896768 0.35120051 0.39127327\n",
      " 0.35227994 0.59510153 0.36199323 0.09627155 0.08700431 0.05026914\n",
      " 0.07133206 0.088557   0.14898643 0.06165011 0.14871325 0.06177539\n",
      " 0.         0.06439801 0.23464221 0.04919215 0.11356665 0.04801449\n",
      " 0.11105377 0.0788278  0.10604249 0.06601045 0.1916377  0.02086791\n",
      " 0.11189064 0.06379202 0.1346967  0.10254571 0.06021756 0.11342614\n",
      " 0.09167743 0.10057417 0.07920167 0.16129559 0.02716647 0.13697576\n",
      " 0.05802322 0.12101141 0.22494814 0.2974613  0.24637191 0.12901713\n",
      " 0.18676136 0.16825486 0.21994168 0.17374684 0.07040017 0.03190066\n",
      " 0.07309368 0.0393241  0.15618    0.16900322 0.09190875 0.09605528\n",
      " 0.18222485 0.14736189 0.14804468 0.14901938 0.15162389 0.1555946\n",
      " 0.16073069 0.16650556 0.17258732 0.17837249 0.18355747 0.18767217\n",
      " 0.19068418 0.19252677 0.19315651 0.19252691]\n",
      "15 hour output [[0.19074383]]\n",
      "16 hour input [0.34454284 0.12724304 0.17749519 0.18269211 0.24581982 0.2349258\n",
      " 0.29252744 0.32971744 0.2610208  0.17963922 0.12849009 0.2009454\n",
      " 0.15701956 0.12438562 0.15755994 0.20266455 0.1740932  0.17118538\n",
      " 0.16902935 0.13146879 0.13460852 0.12248046 0.28202596 0.24157568\n",
      " 0.3140607  0.21905192 0.39896768 0.35120051 0.39127327 0.35227994\n",
      " 0.59510153 0.36199323 0.09627155 0.08700431 0.05026914 0.07133206\n",
      " 0.088557   0.14898643 0.06165011 0.14871325 0.06177539 0.\n",
      " 0.06439801 0.23464221 0.04919215 0.11356665 0.04801449 0.11105377\n",
      " 0.0788278  0.10604249 0.06601045 0.1916377  0.02086791 0.11189064\n",
      " 0.06379202 0.1346967  0.10254571 0.06021756 0.11342614 0.09167743\n",
      " 0.10057417 0.07920167 0.16129559 0.02716647 0.13697576 0.05802322\n",
      " 0.12101141 0.22494814 0.2974613  0.24637191 0.12901713 0.18676136\n",
      " 0.16825486 0.21994168 0.17374684 0.07040017 0.03190066 0.07309368\n",
      " 0.0393241  0.15618    0.16900322 0.09190875 0.09605528 0.18222485\n",
      " 0.14736189 0.14804468 0.14901938 0.15162389 0.1555946  0.16073069\n",
      " 0.16650556 0.17258732 0.17837249 0.18355747 0.18767217 0.19068418\n",
      " 0.19252677 0.19315651 0.19252691 0.19074383]\n",
      "16 hour output [[0.18766704]]\n",
      "17 hour input [0.12724304 0.17749519 0.18269211 0.24581982 0.2349258  0.29252744\n",
      " 0.32971744 0.2610208  0.17963922 0.12849009 0.2009454  0.15701956\n",
      " 0.12438562 0.15755994 0.20266455 0.1740932  0.17118538 0.16902935\n",
      " 0.13146879 0.13460852 0.12248046 0.28202596 0.24157568 0.3140607\n",
      " 0.21905192 0.39896768 0.35120051 0.39127327 0.35227994 0.59510153\n",
      " 0.36199323 0.09627155 0.08700431 0.05026914 0.07133206 0.088557\n",
      " 0.14898643 0.06165011 0.14871325 0.06177539 0.         0.06439801\n",
      " 0.23464221 0.04919215 0.11356665 0.04801449 0.11105377 0.0788278\n",
      " 0.10604249 0.06601045 0.1916377  0.02086791 0.11189064 0.06379202\n",
      " 0.1346967  0.10254571 0.06021756 0.11342614 0.09167743 0.10057417\n",
      " 0.07920167 0.16129559 0.02716647 0.13697576 0.05802322 0.12101141\n",
      " 0.22494814 0.2974613  0.24637191 0.12901713 0.18676136 0.16825486\n",
      " 0.21994168 0.17374684 0.07040017 0.03190066 0.07309368 0.0393241\n",
      " 0.15618    0.16900322 0.09190875 0.09605528 0.18222485 0.14736189\n",
      " 0.14804468 0.14901938 0.15162389 0.1555946  0.16073069 0.16650556\n",
      " 0.17258732 0.17837249 0.18355747 0.18767217 0.19068418 0.19252677\n",
      " 0.19315651 0.19252691 0.19074383 0.18766704]\n",
      "17 hour output [[0.1844472]]\n",
      "18 hour input [0.17749519 0.18269211 0.24581982 0.2349258  0.29252744 0.32971744\n",
      " 0.2610208  0.17963922 0.12849009 0.2009454  0.15701956 0.12438562\n",
      " 0.15755994 0.20266455 0.1740932  0.17118538 0.16902935 0.13146879\n",
      " 0.13460852 0.12248046 0.28202596 0.24157568 0.3140607  0.21905192\n",
      " 0.39896768 0.35120051 0.39127327 0.35227994 0.59510153 0.36199323\n",
      " 0.09627155 0.08700431 0.05026914 0.07133206 0.088557   0.14898643\n",
      " 0.06165011 0.14871325 0.06177539 0.         0.06439801 0.23464221\n",
      " 0.04919215 0.11356665 0.04801449 0.11105377 0.0788278  0.10604249\n",
      " 0.06601045 0.1916377  0.02086791 0.11189064 0.06379202 0.1346967\n",
      " 0.10254571 0.06021756 0.11342614 0.09167743 0.10057417 0.07920167\n",
      " 0.16129559 0.02716647 0.13697576 0.05802322 0.12101141 0.22494814\n",
      " 0.2974613  0.24637191 0.12901713 0.18676136 0.16825486 0.21994168\n",
      " 0.17374684 0.07040017 0.03190066 0.07309368 0.0393241  0.15618\n",
      " 0.16900322 0.09190875 0.09605528 0.18222485 0.14736189 0.14804468\n",
      " 0.14901938 0.15162389 0.1555946  0.16073069 0.16650556 0.17258732\n",
      " 0.17837249 0.18355747 0.18767217 0.19068418 0.19252677 0.19315651\n",
      " 0.19252691 0.19074383 0.18766704 0.1844472 ]\n",
      "18 hour output [[0.18054031]]\n",
      "19 hour input [0.18269211 0.24581982 0.2349258  0.29252744 0.32971744 0.2610208\n",
      " 0.17963922 0.12849009 0.2009454  0.15701956 0.12438562 0.15755994\n",
      " 0.20266455 0.1740932  0.17118538 0.16902935 0.13146879 0.13460852\n",
      " 0.12248046 0.28202596 0.24157568 0.3140607  0.21905192 0.39896768\n",
      " 0.35120051 0.39127327 0.35227994 0.59510153 0.36199323 0.09627155\n",
      " 0.08700431 0.05026914 0.07133206 0.088557   0.14898643 0.06165011\n",
      " 0.14871325 0.06177539 0.         0.06439801 0.23464221 0.04919215\n",
      " 0.11356665 0.04801449 0.11105377 0.0788278  0.10604249 0.06601045\n",
      " 0.1916377  0.02086791 0.11189064 0.06379202 0.1346967  0.10254571\n",
      " 0.06021756 0.11342614 0.09167743 0.10057417 0.07920167 0.16129559\n",
      " 0.02716647 0.13697576 0.05802322 0.12101141 0.22494814 0.2974613\n",
      " 0.24637191 0.12901713 0.18676136 0.16825486 0.21994168 0.17374684\n",
      " 0.07040017 0.03190066 0.07309368 0.0393241  0.15618    0.16900322\n",
      " 0.09190875 0.09605528 0.18222485 0.14736189 0.14804468 0.14901938\n",
      " 0.15162389 0.1555946  0.16073069 0.16650556 0.17258732 0.17837249\n",
      " 0.18355747 0.18767217 0.19068418 0.19252677 0.19315651 0.19252691\n",
      " 0.19074383 0.18766704 0.1844472  0.18054031]\n",
      "19 hour output [[0.17666912]]\n",
      "20 hour input [0.24581982 0.2349258  0.29252744 0.32971744 0.2610208  0.17963922\n",
      " 0.12849009 0.2009454  0.15701956 0.12438562 0.15755994 0.20266455\n",
      " 0.1740932  0.17118538 0.16902935 0.13146879 0.13460852 0.12248046\n",
      " 0.28202596 0.24157568 0.3140607  0.21905192 0.39896768 0.35120051\n",
      " 0.39127327 0.35227994 0.59510153 0.36199323 0.09627155 0.08700431\n",
      " 0.05026914 0.07133206 0.088557   0.14898643 0.06165011 0.14871325\n",
      " 0.06177539 0.         0.06439801 0.23464221 0.04919215 0.11356665\n",
      " 0.04801449 0.11105377 0.0788278  0.10604249 0.06601045 0.1916377\n",
      " 0.02086791 0.11189064 0.06379202 0.1346967  0.10254571 0.06021756\n",
      " 0.11342614 0.09167743 0.10057417 0.07920167 0.16129559 0.02716647\n",
      " 0.13697576 0.05802322 0.12101141 0.22494814 0.2974613  0.24637191\n",
      " 0.12901713 0.18676136 0.16825486 0.21994168 0.17374684 0.07040017\n",
      " 0.03190066 0.07309368 0.0393241  0.15618    0.16900322 0.09190875\n",
      " 0.09605528 0.18222485 0.14736189 0.14804468 0.14901938 0.15162389\n",
      " 0.1555946  0.16073069 0.16650556 0.17258732 0.17837249 0.18355747\n",
      " 0.18767217 0.19068418 0.19252677 0.19315651 0.19252691 0.19074383\n"
     ]
    },
    {
     "name": "stdout",
     "output_type": "stream",
     "text": [
      " 0.18766704 0.1844472  0.18054031 0.17666912]\n",
      "20 hour output [[0.1731528]]\n",
      "21 hour input [0.2349258  0.29252744 0.32971744 0.2610208  0.17963922 0.12849009\n",
      " 0.2009454  0.15701956 0.12438562 0.15755994 0.20266455 0.1740932\n",
      " 0.17118538 0.16902935 0.13146879 0.13460852 0.12248046 0.28202596\n",
      " 0.24157568 0.3140607  0.21905192 0.39896768 0.35120051 0.39127327\n",
      " 0.35227994 0.59510153 0.36199323 0.09627155 0.08700431 0.05026914\n",
      " 0.07133206 0.088557   0.14898643 0.06165011 0.14871325 0.06177539\n",
      " 0.         0.06439801 0.23464221 0.04919215 0.11356665 0.04801449\n",
      " 0.11105377 0.0788278  0.10604249 0.06601045 0.1916377  0.02086791\n",
      " 0.11189064 0.06379202 0.1346967  0.10254571 0.06021756 0.11342614\n",
      " 0.09167743 0.10057417 0.07920167 0.16129559 0.02716647 0.13697576\n",
      " 0.05802322 0.12101141 0.22494814 0.2974613  0.24637191 0.12901713\n",
      " 0.18676136 0.16825486 0.21994168 0.17374684 0.07040017 0.03190066\n",
      " 0.07309368 0.0393241  0.15618    0.16900322 0.09190875 0.09605528\n",
      " 0.18222485 0.14736189 0.14804468 0.14901938 0.15162389 0.1555946\n",
      " 0.16073069 0.16650556 0.17258732 0.17837249 0.18355747 0.18767217\n",
      " 0.19068418 0.19252677 0.19315651 0.19252691 0.19074383 0.18766704\n",
      " 0.1844472  0.18054031 0.17666912 0.1731528 ]\n",
      "21 hour output [[0.1704053]]\n",
      "22 hour input [0.29252744 0.32971744 0.2610208  0.17963922 0.12849009 0.2009454\n",
      " 0.15701956 0.12438562 0.15755994 0.20266455 0.1740932  0.17118538\n",
      " 0.16902935 0.13146879 0.13460852 0.12248046 0.28202596 0.24157568\n",
      " 0.3140607  0.21905192 0.39896768 0.35120051 0.39127327 0.35227994\n",
      " 0.59510153 0.36199323 0.09627155 0.08700431 0.05026914 0.07133206\n",
      " 0.088557   0.14898643 0.06165011 0.14871325 0.06177539 0.\n",
      " 0.06439801 0.23464221 0.04919215 0.11356665 0.04801449 0.11105377\n",
      " 0.0788278  0.10604249 0.06601045 0.1916377  0.02086791 0.11189064\n",
      " 0.06379202 0.1346967  0.10254571 0.06021756 0.11342614 0.09167743\n",
      " 0.10057417 0.07920167 0.16129559 0.02716647 0.13697576 0.05802322\n",
      " 0.12101141 0.22494814 0.2974613  0.24637191 0.12901713 0.18676136\n",
      " 0.16825486 0.21994168 0.17374684 0.07040017 0.03190066 0.07309368\n",
      " 0.0393241  0.15618    0.16900322 0.09190875 0.09605528 0.18222485\n",
      " 0.14736189 0.14804468 0.14901938 0.15162389 0.1555946  0.16073069\n",
      " 0.16650556 0.17258732 0.17837249 0.18355747 0.18767217 0.19068418\n",
      " 0.19252677 0.19315651 0.19252691 0.19074383 0.18766704 0.1844472\n",
      " 0.18054031 0.17666912 0.1731528  0.1704053 ]\n",
      "22 hour output [[0.16854173]]\n",
      "23 hour input [0.32971744 0.2610208  0.17963922 0.12849009 0.2009454  0.15701956\n",
      " 0.12438562 0.15755994 0.20266455 0.1740932  0.17118538 0.16902935\n",
      " 0.13146879 0.13460852 0.12248046 0.28202596 0.24157568 0.3140607\n",
      " 0.21905192 0.39896768 0.35120051 0.39127327 0.35227994 0.59510153\n",
      " 0.36199323 0.09627155 0.08700431 0.05026914 0.07133206 0.088557\n",
      " 0.14898643 0.06165011 0.14871325 0.06177539 0.         0.06439801\n",
      " 0.23464221 0.04919215 0.11356665 0.04801449 0.11105377 0.0788278\n",
      " 0.10604249 0.06601045 0.1916377  0.02086791 0.11189064 0.06379202\n",
      " 0.1346967  0.10254571 0.06021756 0.11342614 0.09167743 0.10057417\n",
      " 0.07920167 0.16129559 0.02716647 0.13697576 0.05802322 0.12101141\n",
      " 0.22494814 0.2974613  0.24637191 0.12901713 0.18676136 0.16825486\n",
      " 0.21994168 0.17374684 0.07040017 0.03190066 0.07309368 0.0393241\n",
      " 0.15618    0.16900322 0.09190875 0.09605528 0.18222485 0.14736189\n",
      " 0.14804468 0.14901938 0.15162389 0.1555946  0.16073069 0.16650556\n",
      " 0.17258732 0.17837249 0.18355747 0.18767217 0.19068418 0.19252677\n",
      " 0.19315651 0.19252691 0.19074383 0.18766704 0.1844472  0.18054031\n",
      " 0.17666912 0.1731528  0.1704053  0.16854173]\n",
      "23 hour output [[0.16770925]]\n",
      "[[0.1473618894815445], [0.1480446755886078], [0.14901937544345856], [0.1516238898038864], [0.155594602227211], [0.16073068976402283], [0.16650556027889252], [0.1725873202085495], [0.17837248742580414], [0.18355746567249298], [0.18767216801643372], [0.19068418443202972], [0.19252677261829376], [0.19315651059150696], [0.1925269067287445], [0.1907438337802887], [0.18766704201698303], [0.18444719910621643], [0.1805403083562851], [0.17666912078857422], [0.17315280437469482], [0.1704052984714508], [0.16854172945022583], [0.16770924627780914]]\n"
     ]
    }
   ],
   "source": [
    "# demonstrate prediction for next 24 hours\n",
    "from numpy import array\n",
    "\n",
    "lst_output=[]\n",
    "n_steps=100\n",
    "i=0\n",
    "while(i<24):\n",
    "    \n",
    "    if(len(temp_input)>100):\n",
    "        #print(temp_input)\n",
    "        x_input=np.array(temp_input[1:])\n",
    "        x_input[x_input<0] = 0\n",
    "        print(\"{} hour input {}\".format(i,x_input))\n",
    "        x_input=x_input.reshape(1,-1)\n",
    "        x_input = x_input.reshape((1, n_steps, 1))\n",
    "        #print(x_input)\n",
    "        yhat = model.predict(x_input, verbose=0)\n",
    "        yhat[yhat<0] = 0\n",
    "        print(\"{} hour output {}\".format(i,yhat))\n",
    "        temp_input.extend(yhat[0].tolist())\n",
    "        temp_input=temp_input[1:]\n",
    "        #print(temp_input)\n",
    "        lst_output.extend(yhat.tolist())\n",
    "        i=i+1\n",
    "    else:\n",
    "        x_input = x_input.reshape((1, n_steps,1))\n",
    "        x_input[x_input<0] = 0\n",
    "        yhat = model.predict(x_input, verbose=0)\n",
    "        yhat[yhat<0] = 0\n",
    "        print(yhat[0])\n",
    "        temp_input.extend(yhat[0].tolist())\n",
    "        print(len(temp_input))\n",
    "        lst_output.extend(yhat.tolist())\n",
    "        i=i+1\n",
    "    \n",
    "\n",
    "print(lst_output)"
   ]
  },
  {
   "cell_type": "code",
   "execution_count": 75,
   "metadata": {},
   "outputs": [
    {
     "data": {
      "text/plain": [
       "array([0.2610208 , 0.17963922, 0.12849009, 0.2009454 , 0.15701956,\n",
       "       0.12438562, 0.15755994, 0.20266455, 0.1740932 , 0.17118538,\n",
       "       0.16902935, 0.13146879, 0.13460852, 0.12248046, 0.28202596,\n",
       "       0.24157568, 0.3140607 , 0.21905192, 0.39896768, 0.35120051,\n",
       "       0.39127327, 0.35227994, 0.59510153, 0.36199323, 0.09627155,\n",
       "       0.08700431, 0.05026914, 0.07133206, 0.088557  , 0.14898643,\n",
       "       0.06165011, 0.14871325, 0.06177539, 0.        , 0.06439801,\n",
       "       0.23464221, 0.04919215, 0.11356665, 0.04801449, 0.11105377,\n",
       "       0.0788278 , 0.10604249, 0.06601045, 0.1916377 , 0.02086791,\n",
       "       0.11189064, 0.06379202, 0.1346967 , 0.10254571, 0.06021756,\n",
       "       0.11342614, 0.09167743, 0.10057417, 0.07920167, 0.16129559,\n",
       "       0.02716647, 0.13697576, 0.05802322, 0.12101141, 0.22494814,\n",
       "       0.2974613 , 0.24637191, 0.12901713, 0.18676136, 0.16825486,\n",
       "       0.21994168, 0.17374684, 0.07040017, 0.03190066, 0.07309368,\n",
       "       0.0393241 , 0.15618   , 0.16900322, 0.09190875, 0.09605528,\n",
       "       0.18222485, 0.14736189, 0.14804468, 0.14901938, 0.15162389,\n",
       "       0.1555946 , 0.16073069, 0.16650556, 0.17258732, 0.17837249,\n",
       "       0.18355747, 0.18767217, 0.19068418, 0.19252677, 0.19315651,\n",
       "       0.19252691, 0.19074383, 0.18766704, 0.1844472 , 0.18054031,\n",
       "       0.17666912, 0.1731528 , 0.1704053 , 0.16854173, 0.16770925])"
      ]
     },
     "execution_count": 75,
     "metadata": {},
     "output_type": "execute_result"
    }
   ],
   "source": [
    "np.array(temp_input[1:])"
   ]
  },
  {
   "cell_type": "code",
   "execution_count": 125,
   "metadata": {},
   "outputs": [],
   "source": [
    "hour_new=np.arange(1,101)\n",
    "hour_pred=np.arange(101,125)"
   ]
  },
  {
   "cell_type": "code",
   "execution_count": 126,
   "metadata": {},
   "outputs": [],
   "source": [
    "import matplotlib.pyplot as plt"
   ]
  },
  {
   "cell_type": "code",
   "execution_count": 127,
   "metadata": {},
   "outputs": [
    {
     "data": {
      "text/plain": [
       "8760"
      ]
     },
     "execution_count": 127,
     "metadata": {},
     "output_type": "execute_result"
    }
   ],
   "source": [
    "len(df1)"
   ]
  },
  {
   "cell_type": "code",
   "execution_count": 128,
   "metadata": {},
   "outputs": [
    {
     "data": {
      "text/plain": [
       "[[0.1473618894815445],\n",
       " [0.1480446755886078],\n",
       " [0.14901937544345856],\n",
       " [0.1516238898038864],\n",
       " [0.155594602227211],\n",
       " [0.16073068976402283],\n",
       " [0.16650556027889252],\n",
       " [0.1725873202085495],\n",
       " [0.17837248742580414],\n",
       " [0.18355746567249298],\n",
       " [0.18767216801643372],\n",
       " [0.19068418443202972],\n",
       " [0.19252677261829376],\n",
       " [0.19315651059150696],\n",
       " [0.1925269067287445],\n",
       " [0.1907438337802887],\n",
       " [0.18766704201698303],\n",
       " [0.18444719910621643],\n",
       " [0.1805403083562851],\n",
       " [0.17666912078857422],\n",
       " [0.17315280437469482],\n",
       " [0.1704052984714508],\n",
       " [0.16854172945022583],\n",
       " [0.16770924627780914]]"
      ]
     },
     "execution_count": 128,
     "metadata": {},
     "output_type": "execute_result"
    },
    {
     "data": {
      "image/png": "[encoded data removed]",
      "text/plain": [
       "<Figure size 432x288 with 1 Axes>"
      ]
     },
     "metadata": {
      "needs_background": "light"
     },
     "output_type": "display_data"
    }
   ],
   "source": [
    "plt.plot(hour_new,scaler.inverse_transform(df1[8660:]))\n",
    "plt.plot(hour_pred,scaler.inverse_transform(lst_output))\n",
    "plt.xlabel('Time [hour]')\n",
    "plt.ylabel('Wind Speed [m/s]')\n",
    "plt.legend([\"Real Data\",\"Forecasted Output\"])\n",
    "lst_output"
   ]
  },
  {
   "cell_type": "code",
   "execution_count": 138,
   "metadata": {},
   "outputs": [
    {
     "data": {
      "text/plain": [
       "(4, 12)"
      ]
     },
     "execution_count": 138,
     "metadata": {},
     "output_type": "execute_result"
    },
    {
     "data": {
      "image/png": "[encoded data removed]",
      "text/plain": [
       "<Figure size 432x288 with 1 Axes>"
      ]
     },
     "metadata": {
      "needs_background": "light"
     },
     "output_type": "display_data"
    }
   ],
   "source": [
    "fig, ax = plt.subplots()\n",
    "dim=np.arange(1,25,1)\n",
    "plt.plot(np.arange(1,25),scaler.inverse_transform(lst_output),'r-', linewidth=3)\n",
    "plt.xlabel('Time [hour]')\n",
    "plt.ylabel('Forecasted Wind Speed [m/s]')\n",
    "plt.xticks(dim)\n",
    "ax.set_xlim([1, 24])\n",
    "ax.set_ylim([4, 12])"
   ]
  },
  {
   "cell_type": "code",
   "execution_count": 130,
   "metadata": {},
   "outputs": [
    {
     "data": {
      "text/plain": [
       "[<matplotlib.lines.Line2D at 0x5de099eb88>]"
      ]
     },
     "execution_count": 130,
     "metadata": {},
     "output_type": "execute_result"
    },
    {
     "data": {
      "image/png": "[encoded data removed]",
      "text/plain": [
       "<Figure size 432x288 with 1 Axes>"
      ]
     },
     "metadata": {
      "needs_background": "light"
     },
     "output_type": "display_data"
    }
   ],
   "source": [
    "df3=df1.tolist()\n",
    "df3.extend(lst_output)\n",
    "plt.plot(df3[1200:])"
   ]
  },
  {
   "cell_type": "code",
   "execution_count": null,
   "metadata": {},
   "outputs": [],
   "source": []
  },
  {
   "cell_type": "code",
   "execution_count": 82,
   "metadata": {},
   "outputs": [],
   "source": [
    "df3=scaler.inverse_transform(df3).tolist()"
   ]
  },
  {
   "cell_type": "code",
   "execution_count": 83,
   "metadata": {},
   "outputs": [
    {
     "data": {
      "text/plain": [
       "[<matplotlib.lines.Line2D at 0x5de08edd48>]"
      ]
     },
     "execution_count": 83,
     "metadata": {},
     "output_type": "execute_result"
    },
    {
     "data": {
      "image/png": "[encoded data removed]",
      "text/plain": [
       "<Figure size 432x288 with 1 Axes>"
      ]
     },
     "metadata": {
      "needs_background": "light"
     },
     "output_type": "display_data"
    }
   ],
   "source": [
    "plt.plot(df3)"
   ]
  },
  {
   "cell_type": "code",
   "execution_count": null,
   "metadata": {},
   "outputs": [],
   "source": []
  },
  {
   "cell_type": "code",
   "execution_count": null,
   "metadata": {},
   "outputs": [],
   "source": []
  }
 ],
 "metadata": {
  "kernelspec": {
   "display_name": "Python 3",
   "language": "python",
   "name": "python3"
  },
  "language_info": {
   "codemirror_mode": {
    "name": "ipython",
    "version": 3
   },
   "file_extension": ".py",
   "mimetype": "text/x-python",
   "name": "python",
   "nbconvert_exporter": "python",
   "pygments_lexer": "ipython3",
   "version": "3.7.4"
  }
 },
 "nbformat": 4,
 "nbformat_minor": 2
}
